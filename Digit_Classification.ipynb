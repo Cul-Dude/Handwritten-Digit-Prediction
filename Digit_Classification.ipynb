{
  "cells": [
    {
      "cell_type": "markdown",
      "metadata": {
        "id": "view-in-github",
        "colab_type": "text"
      },
      "source": [
        "<a href=\"https://colab.research.google.com/github/Cul-Dude/Handwritten-Digit-Prediction/blob/main/Digit_Classification.ipynb\" target=\"_parent\"><img src=\"https://colab.research.google.com/assets/colab-badge.svg\" alt=\"Open In Colab\"/></a>"
      ]
    },
    {
      "cell_type": "markdown",
      "metadata": {
        "id": "AQZGe7QjcFYD"
      },
      "source": [
        "# LOADING DATASET\n"
      ]
    },
    {
      "cell_type": "code",
      "execution_count": 3,
      "metadata": {
        "id": "yjn1-1aKcEL-"
      },
      "outputs": [],
      "source": [
        "import numpy as np\n",
        "import tensorflow as tf\n",
        "import matplotlib.pyplot as plt\n",
        "from tensorflow.keras import Sequential\n",
        "from tensorflow.keras.layers import Dense, Dropout\n",
        "from tensorflow.keras.losses import SparseCategoricalCrossentropy\n",
        "from tensorflow.keras.optimizers import Adam\n",
        "from sklearn.model_selection import train_test_split\n",
        "import seaborn as sns\n",
        "from sklearn.metrics import confusion_matrix, classification_report, accuracy_score\n",
        "from tensorflow.keras.regularizers import l2"
      ]
    },
    {
      "cell_type": "code",
      "execution_count": null,
      "metadata": {
        "colab": {
          "base_uri": "https://localhost:8080/"
        },
        "id": "ekS1Q95_eBm9",
        "outputId": "6c89338d-fbad-49a0-a8e6-e2ab3e847797"
      },
      "outputs": [
        {
          "output_type": "stream",
          "name": "stdout",
          "text": [
            "<class 'numpy.ndarray'>\n",
            "<class 'numpy.ndarray'>\n",
            "<class 'numpy.ndarray'>\n",
            "<class 'numpy.ndarray'>\n"
          ]
        }
      ],
      "source": [
        "(x_train, y_train), (x_test, y_test)=tf.keras.datasets.mnist.load_data()\n",
        "print(type(x_train))\n",
        "print(type(y_train))\n",
        "print(type(x_test))\n",
        "print(type(y_test))\n",
        "#thus all are numpy arrays"
      ]
    },
    {
      "cell_type": "markdown",
      "metadata": {
        "id": "7NS3HviOfX55"
      },
      "source": [
        "# GETTING TO KNOW THE DATASET"
      ]
    },
    {
      "cell_type": "markdown",
      "metadata": {
        "id": "IInKXgTfx2zj"
      },
      "source": [
        "### x_train and x_test"
      ]
    },
    {
      "cell_type": "code",
      "execution_count": null,
      "metadata": {
        "colab": {
          "base_uri": "https://localhost:8080/"
        },
        "id": "lyw1Ex4eootq",
        "outputId": "4c9b8ac0-3a6c-4919-d877-8c19c38371bc"
      },
      "outputs": [
        {
          "output_type": "stream",
          "name": "stdout",
          "text": [
            "(60000, 28, 28)\n",
            "(28, 28)\n",
            "Min pixel value =  0\n",
            "Max pixel value =  255\n",
            "Unique Values =  [  0   1   2   3   4   5   6   7   8   9  10  11  12  13  14  15  16  17\n",
            "  18  19  20  21  22  23  24  25  26  27  28  29  30  31  32  33  34  35\n",
            "  36  37  38  39  40  41  42  43  44  45  46  47  48  49  50  51  52  53\n",
            "  54  55  56  57  58  59  60  61  62  63  64  65  66  67  68  69  70  71\n",
            "  72  73  74  75  76  77  78  79  80  81  82  83  84  85  86  87  88  89\n",
            "  90  91  92  93  94  95  96  97  98  99 100 101 102 103 104 105 106 107\n",
            " 108 109 110 111 112 113 114 115 116 117 118 119 120 121 122 123 124 125\n",
            " 126 127 128 129 130 131 132 133 134 135 136 137 138 139 140 141 142 143\n",
            " 144 145 146 147 148 149 150 151 152 153 154 155 156 157 158 159 160 161\n",
            " 162 163 164 165 166 167 168 169 170 171 172 173 174 175 176 177 178 179\n",
            " 180 181 182 183 184 185 186 187 188 189 190 191 192 193 194 195 196 197\n",
            " 198 199 200 201 202 203 204 205 206 207 208 209 210 211 212 213 214 215\n",
            " 216 217 218 219 220 221 222 223 224 225 226 227 228 229 230 231 232 233\n",
            " 234 235 236 237 238 239 240 241 242 243 244 245 246 247 248 249 250 251\n",
            " 252 253 254 255]\n"
          ]
        }
      ],
      "source": [
        "print(x_train.shape)\n",
        "print(x_train[0].shape)\n",
        "print(\"Min pixel value = \",x_train[0].min())\n",
        "print(\"Max pixel value = \",x_train[0].max())\n",
        "print(\"Unique Values = \",np.unique(x_train))"
      ]
    },
    {
      "cell_type": "code",
      "execution_count": null,
      "metadata": {
        "colab": {
          "base_uri": "https://localhost:8080/"
        },
        "id": "fCqFabh9fRLA",
        "outputId": "ab7b8e5f-8b22-405e-d8c3-b9ee4e2f6246"
      },
      "outputs": [
        {
          "output_type": "stream",
          "name": "stdout",
          "text": [
            "(28, 28)\n",
            "Min pixel value =  0\n",
            "Max pixel value =  255\n",
            "Unique Values =  [  0   1   2   3   4   5   6   7   8   9  10  11  12  13  14  15  16  17\n",
            "  18  19  20  21  22  23  24  25  26  27  28  29  30  31  32  33  34  35\n",
            "  36  37  38  39  40  41  42  43  44  45  46  47  48  49  50  51  52  53\n",
            "  54  55  56  57  58  59  60  61  62  63  64  65  66  67  68  69  70  71\n",
            "  72  73  74  75  76  77  78  79  80  81  82  83  84  85  86  87  88  89\n",
            "  90  91  92  93  94  95  96  97  98  99 100 101 102 103 104 105 106 107\n",
            " 108 109 110 111 112 113 114 115 116 117 118 119 120 121 122 123 124 125\n",
            " 126 127 128 129 130 131 132 133 134 135 136 137 138 139 140 141 142 143\n",
            " 144 145 146 147 148 149 150 151 152 153 154 155 156 157 158 159 160 161\n",
            " 162 163 164 165 166 167 168 169 170 171 172 173 174 175 176 177 178 179\n",
            " 180 181 182 183 184 185 186 187 188 189 190 191 192 193 194 195 196 197\n",
            " 198 199 200 201 202 203 204 205 206 207 208 209 210 211 212 213 214 215\n",
            " 216 217 218 219 220 221 222 223 224 225 226 227 228 229 230 231 232 233\n",
            " 234 235 236 237 238 239 240 241 242 243 244 245 246 247 248 249 250 251\n",
            " 252 253 254 255]\n"
          ]
        }
      ],
      "source": [
        "print(x_test[0].shape) # one element of the array is a 2D array\n",
        "print(\"Min pixel value = \",x_test[0].min())\n",
        "print(\"Max pixel value = \",x_test[0].max())\n",
        "print(\"Unique Values = \",np.unique(x_test))"
      ]
    },
    {
      "cell_type": "markdown",
      "metadata": {
        "id": "Usq3lOjIetm_"
      },
      "source": [
        "Thus, each element of  arrays x_train and x_test arrays is a 2D matrix, of size 28 X 28 and each value in that 2D matrix is the pixel values of the 28 X 28 image"
      ]
    },
    {
      "cell_type": "markdown",
      "metadata": {
        "id": "K6evr9UEx8BQ"
      },
      "source": [
        "### y_train and y_test"
      ]
    },
    {
      "cell_type": "code",
      "execution_count": null,
      "metadata": {
        "colab": {
          "base_uri": "https://localhost:8080/"
        },
        "id": "-79MKvo8hngL",
        "outputId": "03a85fc8-810c-420a-a43b-e4b07c2e11b2"
      },
      "outputs": [
        {
          "output_type": "stream",
          "name": "stdout",
          "text": [
            "Shape of y_train =  (60000,)\n",
            "Unique Values =  [0 1 2 3 4 5 6 7 8 9]\n"
          ]
        }
      ],
      "source": [
        "print(\"Shape of y_train = \",y_train.shape)\n",
        "print(\"Unique Values = \",np.unique(y_train))\n"
      ]
    },
    {
      "cell_type": "code",
      "execution_count": null,
      "metadata": {
        "colab": {
          "base_uri": "https://localhost:8080/"
        },
        "id": "F7T-BFobhZ4o",
        "outputId": "665fc62c-079b-47a4-9c6c-a3690842a087"
      },
      "outputs": [
        {
          "output_type": "stream",
          "name": "stdout",
          "text": [
            "Shape of y_test =  (10000,)\n",
            "Unique Values =  [0 1 2 3 4 5 6 7 8 9]\n"
          ]
        }
      ],
      "source": [
        "print(\"Shape of y_test = \",y_test.shape)\n",
        "print(\"Unique Values = \",np.unique(y_test))"
      ]
    },
    {
      "cell_type": "code",
      "execution_count": null,
      "metadata": {
        "colab": {
          "base_uri": "https://localhost:8080/"
        },
        "id": "Qu4W84cffLDd",
        "outputId": "0a3fc744-8a9e-4ebe-8881-9ab25949a661"
      },
      "outputs": [
        {
          "output_type": "execute_result",
          "data": {
            "text/plain": [
              "array([[  0,   0,   0,   0,   0,   0,   0,   0,   0,   0,   0,   0,   0,\n",
              "          0,   0,   0,   0,   0,   0,   0,   0,   0,   0,   0,   0,   0,\n",
              "          0,   0],\n",
              "       [  0,   0,   0,   0,   0,   0,   0,   0,   0,   0,   0,   0,   0,\n",
              "          0,   0,   0,   0,   0,   0,   0,   0,   0,   0,   0,   0,   0,\n",
              "          0,   0],\n",
              "       [  0,   0,   0,   0,   0,   0,   0,   0,   0,   0,   0,   0,   0,\n",
              "          0,   0,   0,   0,   0,   0,   0,   0,   0,   0,   0,   0,   0,\n",
              "          0,   0],\n",
              "       [  0,   0,   0,   0,   0,   0,   0,   0,   0,   0,   0,   0,   0,\n",
              "          0,   0,   0,   0,   0,   0,   0,   0,   0,   0,   0,   0,   0,\n",
              "          0,   0],\n",
              "       [  0,   0,   0,   0,   0,   0,   0,   0,   0,   0,   0,   0,   0,\n",
              "          0,   0,   0,   0,   0,   0,   0,   0,   0,   0,   0,   0,   0,\n",
              "          0,   0],\n",
              "       [  0,   0,   0,   0,   0,   0,   0,   0,   0,   0,   0,   0,   3,\n",
              "         18,  18,  18, 126, 136, 175,  26, 166, 255, 247, 127,   0,   0,\n",
              "          0,   0],\n",
              "       [  0,   0,   0,   0,   0,   0,   0,   0,  30,  36,  94, 154, 170,\n",
              "        253, 253, 253, 253, 253, 225, 172, 253, 242, 195,  64,   0,   0,\n",
              "          0,   0],\n",
              "       [  0,   0,   0,   0,   0,   0,   0,  49, 238, 253, 253, 253, 253,\n",
              "        253, 253, 253, 253, 251,  93,  82,  82,  56,  39,   0,   0,   0,\n",
              "          0,   0],\n",
              "       [  0,   0,   0,   0,   0,   0,   0,  18, 219, 253, 253, 253, 253,\n",
              "        253, 198, 182, 247, 241,   0,   0,   0,   0,   0,   0,   0,   0,\n",
              "          0,   0],\n",
              "       [  0,   0,   0,   0,   0,   0,   0,   0,  80, 156, 107, 253, 253,\n",
              "        205,  11,   0,  43, 154,   0,   0,   0,   0,   0,   0,   0,   0,\n",
              "          0,   0],\n",
              "       [  0,   0,   0,   0,   0,   0,   0,   0,   0,  14,   1, 154, 253,\n",
              "         90,   0,   0,   0,   0,   0,   0,   0,   0,   0,   0,   0,   0,\n",
              "          0,   0],\n",
              "       [  0,   0,   0,   0,   0,   0,   0,   0,   0,   0,   0, 139, 253,\n",
              "        190,   2,   0,   0,   0,   0,   0,   0,   0,   0,   0,   0,   0,\n",
              "          0,   0],\n",
              "       [  0,   0,   0,   0,   0,   0,   0,   0,   0,   0,   0,  11, 190,\n",
              "        253,  70,   0,   0,   0,   0,   0,   0,   0,   0,   0,   0,   0,\n",
              "          0,   0],\n",
              "       [  0,   0,   0,   0,   0,   0,   0,   0,   0,   0,   0,   0,  35,\n",
              "        241, 225, 160, 108,   1,   0,   0,   0,   0,   0,   0,   0,   0,\n",
              "          0,   0],\n",
              "       [  0,   0,   0,   0,   0,   0,   0,   0,   0,   0,   0,   0,   0,\n",
              "         81, 240, 253, 253, 119,  25,   0,   0,   0,   0,   0,   0,   0,\n",
              "          0,   0],\n",
              "       [  0,   0,   0,   0,   0,   0,   0,   0,   0,   0,   0,   0,   0,\n",
              "          0,  45, 186, 253, 253, 150,  27,   0,   0,   0,   0,   0,   0,\n",
              "          0,   0],\n",
              "       [  0,   0,   0,   0,   0,   0,   0,   0,   0,   0,   0,   0,   0,\n",
              "          0,   0,  16,  93, 252, 253, 187,   0,   0,   0,   0,   0,   0,\n",
              "          0,   0],\n",
              "       [  0,   0,   0,   0,   0,   0,   0,   0,   0,   0,   0,   0,   0,\n",
              "          0,   0,   0,   0, 249, 253, 249,  64,   0,   0,   0,   0,   0,\n",
              "          0,   0],\n",
              "       [  0,   0,   0,   0,   0,   0,   0,   0,   0,   0,   0,   0,   0,\n",
              "          0,  46, 130, 183, 253, 253, 207,   2,   0,   0,   0,   0,   0,\n",
              "          0,   0],\n",
              "       [  0,   0,   0,   0,   0,   0,   0,   0,   0,   0,   0,   0,  39,\n",
              "        148, 229, 253, 253, 253, 250, 182,   0,   0,   0,   0,   0,   0,\n",
              "          0,   0],\n",
              "       [  0,   0,   0,   0,   0,   0,   0,   0,   0,   0,  24, 114, 221,\n",
              "        253, 253, 253, 253, 201,  78,   0,   0,   0,   0,   0,   0,   0,\n",
              "          0,   0],\n",
              "       [  0,   0,   0,   0,   0,   0,   0,   0,  23,  66, 213, 253, 253,\n",
              "        253, 253, 198,  81,   2,   0,   0,   0,   0,   0,   0,   0,   0,\n",
              "          0,   0],\n",
              "       [  0,   0,   0,   0,   0,   0,  18, 171, 219, 253, 253, 253, 253,\n",
              "        195,  80,   9,   0,   0,   0,   0,   0,   0,   0,   0,   0,   0,\n",
              "          0,   0],\n",
              "       [  0,   0,   0,   0,  55, 172, 226, 253, 253, 253, 253, 244, 133,\n",
              "         11,   0,   0,   0,   0,   0,   0,   0,   0,   0,   0,   0,   0,\n",
              "          0,   0],\n",
              "       [  0,   0,   0,   0, 136, 253, 253, 253, 212, 135, 132,  16,   0,\n",
              "          0,   0,   0,   0,   0,   0,   0,   0,   0,   0,   0,   0,   0,\n",
              "          0,   0],\n",
              "       [  0,   0,   0,   0,   0,   0,   0,   0,   0,   0,   0,   0,   0,\n",
              "          0,   0,   0,   0,   0,   0,   0,   0,   0,   0,   0,   0,   0,\n",
              "          0,   0],\n",
              "       [  0,   0,   0,   0,   0,   0,   0,   0,   0,   0,   0,   0,   0,\n",
              "          0,   0,   0,   0,   0,   0,   0,   0,   0,   0,   0,   0,   0,\n",
              "          0,   0],\n",
              "       [  0,   0,   0,   0,   0,   0,   0,   0,   0,   0,   0,   0,   0,\n",
              "          0,   0,   0,   0,   0,   0,   0,   0,   0,   0,   0,   0,   0,\n",
              "          0,   0]], dtype=uint8)"
            ],
            "text/html": [
              "<style>\n",
              "      .ndarray_repr .ndarray_raw_data {\n",
              "        display: none;\n",
              "      }\n",
              "      .ndarray_repr.show_array .ndarray_raw_data {\n",
              "        display: block;\n",
              "      }\n",
              "      .ndarray_repr.show_array .ndarray_image_preview {\n",
              "        display: none;\n",
              "      }\n",
              "      </style>\n",
              "      <div id=\"id-91849991-e6fe-4d79-8d3c-fb61c4e9d8eb\" class=\"ndarray_repr\"><pre>ndarray (28, 28) <button style=\"padding: 0 2px;\">show data</button></pre><img src=\"data:image/png;base64,iVBORw0KGgoAAAANSUhEUgAAABwAAAAcCAAAAABXZoBIAAABAElEQVR4nGNgGMyAWUhIqK5jvdSy/9/rGRgYGFhgEnJsVjYCwQwMDAxPJgV+vniQgYGBgREqZ7iXH8r6l/SV4dn7m8gmCt3++/fv37/Htn3/iMW+gDnZf/+e5WbQnoXNNXyMs/5GoQoxwVmf/n9kSGFiwAW49/11wynJoPzx4YIcRlyygR/+/i2XxCWru+vv32nSuGQFYv/83Y3b4p9/fzpAmSyoMnohpiwM1w5h06Q+5enfv39/bcMiJVF09+/fv39P+mFKiTtd/fv3799jgZiBJLT69t+/f/8eDuDEkDJf8+jv379/v7Ryo4qzMDAwMAQGMjBc3/y35wM2V1IfAABFF16Aa0wAOwAAAABJRU5ErkJggg==\" class=\"ndarray_image_preview\" /><pre class=\"ndarray_raw_data\">array([[  0,   0,   0,   0,   0,   0,   0,   0,   0,   0,   0,   0,   0,\n",
              "          0,   0,   0,   0,   0,   0,   0,   0,   0,   0,   0,   0,   0,\n",
              "          0,   0],\n",
              "       [  0,   0,   0,   0,   0,   0,   0,   0,   0,   0,   0,   0,   0,\n",
              "          0,   0,   0,   0,   0,   0,   0,   0,   0,   0,   0,   0,   0,\n",
              "          0,   0],\n",
              "       [  0,   0,   0,   0,   0,   0,   0,   0,   0,   0,   0,   0,   0,\n",
              "          0,   0,   0,   0,   0,   0,   0,   0,   0,   0,   0,   0,   0,\n",
              "          0,   0],\n",
              "       [  0,   0,   0,   0,   0,   0,   0,   0,   0,   0,   0,   0,   0,\n",
              "          0,   0,   0,   0,   0,   0,   0,   0,   0,   0,   0,   0,   0,\n",
              "          0,   0],\n",
              "       [  0,   0,   0,   0,   0,   0,   0,   0,   0,   0,   0,   0,   0,\n",
              "          0,   0,   0,   0,   0,   0,   0,   0,   0,   0,   0,   0,   0,\n",
              "          0,   0],\n",
              "       [  0,   0,   0,   0,   0,   0,   0,   0,   0,   0,   0,   0,   3,\n",
              "         18,  18,  18, 126, 136, 175,  26, 166, 255, 247, 127,   0,   0,\n",
              "          0,   0],\n",
              "       [  0,   0,   0,   0,   0,   0,   0,   0,  30,  36,  94, 154, 170,\n",
              "        253, 253, 253, 253, 253, 225, 172, 253, 242, 195,  64,   0,   0,\n",
              "          0,   0],\n",
              "       [  0,   0,   0,   0,   0,   0,   0,  49, 238, 253, 253, 253, 253,\n",
              "        253, 253, 253, 253, 251,  93,  82,  82,  56,  39,   0,   0,   0,\n",
              "          0,   0],\n",
              "       [  0,   0,   0,   0,   0,   0,   0,  18, 219, 253, 253, 253, 253,\n",
              "        253, 198, 182, 247, 241,   0,   0,   0,   0,   0,   0,   0,   0,\n",
              "          0,   0],\n",
              "       [  0,   0,   0,   0,   0,   0,   0,   0,  80, 156, 107, 253, 253,\n",
              "        205,  11,   0,  43, 154,   0,   0,   0,   0,   0,   0,   0,   0,\n",
              "          0,   0],\n",
              "       [  0,   0,   0,   0,   0,   0,   0,   0,   0,  14,   1, 154, 253,\n",
              "         90,   0,   0,   0,   0,   0,   0,   0,   0,   0,   0,   0,   0,\n",
              "          0,   0],\n",
              "       [  0,   0,   0,   0,   0,   0,   0,   0,   0,   0,   0, 139, 253,\n",
              "        190,   2,   0,   0,   0,   0,   0,   0,   0,   0,   0,   0,   0,\n",
              "          0,   0],\n",
              "       [  0,   0,   0,   0,   0,   0,   0,   0,   0,   0,   0,  11, 190,\n",
              "        253,  70,   0,   0,   0,   0,   0,   0,   0,   0,   0,   0,   0,\n",
              "          0,   0],\n",
              "       [  0,   0,   0,   0,   0,   0,   0,   0,   0,   0,   0,   0,  35,\n",
              "        241, 225, 160, 108,   1,   0,   0,   0,   0,   0,   0,   0,   0,\n",
              "          0,   0],\n",
              "       [  0,   0,   0,   0,   0,   0,   0,   0,   0,   0,   0,   0,   0,\n",
              "         81, 240, 253, 253, 119,  25,   0,   0,   0,   0,   0,   0,   0,\n",
              "          0,   0],\n",
              "       [  0,   0,   0,   0,   0,   0,   0,   0,   0,   0,   0,   0,   0,\n",
              "          0,  45, 186, 253, 253, 150,  27,   0,   0,   0,   0,   0,   0,\n",
              "          0,   0],\n",
              "       [  0,   0,   0,   0,   0,   0,   0,   0,   0,   0,   0,   0,   0,\n",
              "          0,   0,  16,  93, 252, 253, 187,   0,   0,   0,   0,   0,   0,\n",
              "          0,   0],\n",
              "       [  0,   0,   0,   0,   0,   0,   0,   0,   0,   0,   0,   0,   0,\n",
              "          0,   0,   0,   0, 249, 253, 249,  64,   0,   0,   0,   0,   0,\n",
              "          0,   0],\n",
              "       [  0,   0,   0,   0,   0,   0,   0,   0,   0,   0,   0,   0,   0,\n",
              "          0,  46, 130, 183, 253, 253, 207,   2,   0,   0,   0,   0,   0,\n",
              "          0,   0],\n",
              "       [  0,   0,   0,   0,   0,   0,   0,   0,   0,   0,   0,   0,  39,\n",
              "        148, 229, 253, 253, 253, 250, 182,   0,   0,   0,   0,   0,   0,\n",
              "          0,   0],\n",
              "       [  0,   0,   0,   0,   0,   0,   0,   0,   0,   0,  24, 114, 221,\n",
              "        253, 253, 253, 253, 201,  78,   0,   0,   0,   0,   0,   0,   0,\n",
              "          0,   0],\n",
              "       [  0,   0,   0,   0,   0,   0,   0,   0,  23,  66, 213, 253, 253,\n",
              "        253, 253, 198,  81,   2,   0,   0,   0,   0,   0,   0,   0,   0,\n",
              "          0,   0],\n",
              "       [  0,   0,   0,   0,   0,   0,  18, 171, 219, 253, 253, 253, 253,\n",
              "        195,  80,   9,   0,   0,   0,   0,   0,   0,   0,   0,   0,   0,\n",
              "          0,   0],\n",
              "       [  0,   0,   0,   0,  55, 172, 226, 253, 253, 253, 253, 244, 133,\n",
              "         11,   0,   0,   0,   0,   0,   0,   0,   0,   0,   0,   0,   0,\n",
              "          0,   0],\n",
              "       [  0,   0,   0,   0, 136, 253, 253, 253, 212, 135, 132,  16,   0,\n",
              "          0,   0,   0,   0,   0,   0,   0,   0,   0,   0,   0,   0,   0,\n",
              "          0,   0],\n",
              "       [  0,   0,   0,   0,   0,   0,   0,   0,   0,   0,   0,   0,   0,\n",
              "          0,   0,   0,   0,   0,   0,   0,   0,   0,   0,   0,   0,   0,\n",
              "          0,   0],\n",
              "       [  0,   0,   0,   0,   0,   0,   0,   0,   0,   0,   0,   0,   0,\n",
              "          0,   0,   0,   0,   0,   0,   0,   0,   0,   0,   0,   0,   0,\n",
              "          0,   0],\n",
              "       [  0,   0,   0,   0,   0,   0,   0,   0,   0,   0,   0,   0,   0,\n",
              "          0,   0,   0,   0,   0,   0,   0,   0,   0,   0,   0,   0,   0,\n",
              "          0,   0]], dtype=uint8)</pre></div><script>\n",
              "      (() => {\n",
              "      const titles = ['show data', 'hide data'];\n",
              "      let index = 0\n",
              "      document.querySelector('#id-91849991-e6fe-4d79-8d3c-fb61c4e9d8eb button').onclick = (e) => {\n",
              "        document.querySelector('#id-91849991-e6fe-4d79-8d3c-fb61c4e9d8eb').classList.toggle('show_array');\n",
              "        index = (++index) % 2;\n",
              "        document.querySelector('#id-91849991-e6fe-4d79-8d3c-fb61c4e9d8eb button').textContent = titles[index];\n",
              "        e.preventDefault();\n",
              "        e.stopPropagation();\n",
              "      }\n",
              "      })();\n",
              "    </script>"
            ]
          },
          "metadata": {},
          "execution_count": 38
        }
      ],
      "source": [
        "x_train[0]\n",
        "# on clicking show data we can see a 28 by 28 2D matrix having the pixel values"
      ]
    },
    {
      "cell_type": "code",
      "execution_count": null,
      "metadata": {
        "colab": {
          "base_uri": "https://localhost:8080/"
        },
        "id": "FzPm60jtie0g",
        "outputId": "424d6674-6447-4fcd-f8eb-b9060543cfae"
      },
      "outputs": [
        {
          "output_type": "execute_result",
          "data": {
            "text/plain": [
              "5"
            ]
          },
          "metadata": {},
          "execution_count": 39
        }
      ],
      "source": [
        "y_train[0]"
      ]
    },
    {
      "cell_type": "code",
      "execution_count": null,
      "metadata": {
        "colab": {
          "base_uri": "https://localhost:8080/"
        },
        "id": "SvVI7T5Pfq8B",
        "outputId": "248c4583-a0f4-46af-f83a-89d3e0cb6d98"
      },
      "outputs": [
        {
          "output_type": "execute_result",
          "data": {
            "text/plain": [
              "array([[  0,   0,   0,   0,   0,   0,   0,   0,   0,   0,   0,   0,   0,\n",
              "          0,   0,   0,   0,   0,   0,   0,   0,   0,   0,   0,   0,   0,\n",
              "          0,   0],\n",
              "       [  0,   0,   0,   0,   0,   0,   0,   0,   0,   0,   0,   0,   0,\n",
              "          0,   0,   0,   0,   0,   0,   0,   0,   0,   0,   0,   0,   0,\n",
              "          0,   0],\n",
              "       [  0,   0,   0,   0,   0,   0,   0,   0,   0,   0,   0,   0,   0,\n",
              "          0,   0,   0,   0,   0,   0,   0,   0,   0,   0,   0,   0,   0,\n",
              "          0,   0],\n",
              "       [  0,   0,   0,   0,   0,   0,   0,   0,   0,   0,   0,   0,   0,\n",
              "          0,   0,   0,   0,   0,   0,   0,   0,   0,   0,   0,   0,   0,\n",
              "          0,   0],\n",
              "       [  0,   0,   0,   0,   0,   0,   0,   0,   0,   0,   0,   0,   0,\n",
              "          0,   0,   0,   0,   0,   0,   0,   0,   0,   0,   0,   0,   0,\n",
              "          0,   0],\n",
              "       [  0,   0,   0,   0,   0,   0,   0,   0,   0,   0,   0,   0,   0,\n",
              "          0,   0,   0,   0,   0,   0,   0,   0,   0,   0,   0,   0,   0,\n",
              "          0,   0],\n",
              "       [  0,   0,   0,   0,   0,   0,   0,   0,   0,   0,   0,   0,   0,\n",
              "          0,   0,   0,   0,   0,   0,   0,   0,   0,   0,   0,   0,   0,\n",
              "          0,   0],\n",
              "       [  0,   0,   0,   0,   0,   0,  84, 185, 159, 151,  60,  36,   0,\n",
              "          0,   0,   0,   0,   0,   0,   0,   0,   0,   0,   0,   0,   0,\n",
              "          0,   0],\n",
              "       [  0,   0,   0,   0,   0,   0, 222, 254, 254, 254, 254, 241, 198,\n",
              "        198, 198, 198, 198, 198, 198, 198, 170,  52,   0,   0,   0,   0,\n",
              "          0,   0],\n",
              "       [  0,   0,   0,   0,   0,   0,  67, 114,  72, 114, 163, 227, 254,\n",
              "        225, 254, 254, 254, 250, 229, 254, 254, 140,   0,   0,   0,   0,\n",
              "          0,   0],\n",
              "       [  0,   0,   0,   0,   0,   0,   0,   0,   0,   0,   0,  17,  66,\n",
              "         14,  67,  67,  67,  59,  21, 236, 254, 106,   0,   0,   0,   0,\n",
              "          0,   0],\n",
              "       [  0,   0,   0,   0,   0,   0,   0,   0,   0,   0,   0,   0,   0,\n",
              "          0,   0,   0,   0,   0,  83, 253, 209,  18,   0,   0,   0,   0,\n",
              "          0,   0],\n",
              "       [  0,   0,   0,   0,   0,   0,   0,   0,   0,   0,   0,   0,   0,\n",
              "          0,   0,   0,   0,  22, 233, 255,  83,   0,   0,   0,   0,   0,\n",
              "          0,   0],\n",
              "       [  0,   0,   0,   0,   0,   0,   0,   0,   0,   0,   0,   0,   0,\n",
              "          0,   0,   0,   0, 129, 254, 238,  44,   0,   0,   0,   0,   0,\n",
              "          0,   0],\n",
              "       [  0,   0,   0,   0,   0,   0,   0,   0,   0,   0,   0,   0,   0,\n",
              "          0,   0,   0,  59, 249, 254,  62,   0,   0,   0,   0,   0,   0,\n",
              "          0,   0],\n",
              "       [  0,   0,   0,   0,   0,   0,   0,   0,   0,   0,   0,   0,   0,\n",
              "          0,   0,   0, 133, 254, 187,   5,   0,   0,   0,   0,   0,   0,\n",
              "          0,   0],\n",
              "       [  0,   0,   0,   0,   0,   0,   0,   0,   0,   0,   0,   0,   0,\n",
              "          0,   0,   9, 205, 248,  58,   0,   0,   0,   0,   0,   0,   0,\n",
              "          0,   0],\n",
              "       [  0,   0,   0,   0,   0,   0,   0,   0,   0,   0,   0,   0,   0,\n",
              "          0,   0, 126, 254, 182,   0,   0,   0,   0,   0,   0,   0,   0,\n",
              "          0,   0],\n",
              "       [  0,   0,   0,   0,   0,   0,   0,   0,   0,   0,   0,   0,   0,\n",
              "          0,  75, 251, 240,  57,   0,   0,   0,   0,   0,   0,   0,   0,\n",
              "          0,   0],\n",
              "       [  0,   0,   0,   0,   0,   0,   0,   0,   0,   0,   0,   0,   0,\n",
              "         19, 221, 254, 166,   0,   0,   0,   0,   0,   0,   0,   0,   0,\n",
              "          0,   0],\n",
              "       [  0,   0,   0,   0,   0,   0,   0,   0,   0,   0,   0,   0,   3,\n",
              "        203, 254, 219,  35,   0,   0,   0,   0,   0,   0,   0,   0,   0,\n",
              "          0,   0],\n",
              "       [  0,   0,   0,   0,   0,   0,   0,   0,   0,   0,   0,   0,  38,\n",
              "        254, 254,  77,   0,   0,   0,   0,   0,   0,   0,   0,   0,   0,\n",
              "          0,   0],\n",
              "       [  0,   0,   0,   0,   0,   0,   0,   0,   0,   0,   0,  31, 224,\n",
              "        254, 115,   1,   0,   0,   0,   0,   0,   0,   0,   0,   0,   0,\n",
              "          0,   0],\n",
              "       [  0,   0,   0,   0,   0,   0,   0,   0,   0,   0,   0, 133, 254,\n",
              "        254,  52,   0,   0,   0,   0,   0,   0,   0,   0,   0,   0,   0,\n",
              "          0,   0],\n",
              "       [  0,   0,   0,   0,   0,   0,   0,   0,   0,   0,  61, 242, 254,\n",
              "        254,  52,   0,   0,   0,   0,   0,   0,   0,   0,   0,   0,   0,\n",
              "          0,   0],\n",
              "       [  0,   0,   0,   0,   0,   0,   0,   0,   0,   0, 121, 254, 254,\n",
              "        219,  40,   0,   0,   0,   0,   0,   0,   0,   0,   0,   0,   0,\n",
              "          0,   0],\n",
              "       [  0,   0,   0,   0,   0,   0,   0,   0,   0,   0, 121, 254, 207,\n",
              "         18,   0,   0,   0,   0,   0,   0,   0,   0,   0,   0,   0,   0,\n",
              "          0,   0],\n",
              "       [  0,   0,   0,   0,   0,   0,   0,   0,   0,   0,   0,   0,   0,\n",
              "          0,   0,   0,   0,   0,   0,   0,   0,   0,   0,   0,   0,   0,\n",
              "          0,   0]], dtype=uint8)"
            ],
            "text/html": [
              "<style>\n",
              "      .ndarray_repr .ndarray_raw_data {\n",
              "        display: none;\n",
              "      }\n",
              "      .ndarray_repr.show_array .ndarray_raw_data {\n",
              "        display: block;\n",
              "      }\n",
              "      .ndarray_repr.show_array .ndarray_image_preview {\n",
              "        display: none;\n",
              "      }\n",
              "      </style>\n",
              "      <div id=\"id-22f4004f-3e7b-4904-be77-3c7e6f6baf73\" class=\"ndarray_repr\"><pre>ndarray (28, 28) <button style=\"padding: 0 2px;\">show data</button></pre><img src=\"data:image/png;base64,iVBORw0KGgoAAAANSUhEUgAAABwAAAAcCAAAAABXZoBIAAAAxUlEQVR4nGNgGDaAEUKFpD77sfTFHeyS9xQYGBg+X4UKPuk6w8DAwMDAAuGm6l/TMnSweCzLwPDntSTDozPIOhkYGBgYBA3PmDIw/Lh1XShnGi5nBP+9KIRLTuzl/2AokwlDMlv0/U1cGq1//rPDJcfQ+m83Ky45zrM/rHBqrPu3Daec9+8PlrjkhO/+W4ZLjvn0v9vKuCTV/v3zxSUn/+BfMSMuydZ//0xwydl+QpdEClsbHoa7X1AkWZA5F53f4TIWEwAAaRE8kJuHrgAAAAAASUVORK5CYII=\" class=\"ndarray_image_preview\" /><pre class=\"ndarray_raw_data\">array([[  0,   0,   0,   0,   0,   0,   0,   0,   0,   0,   0,   0,   0,\n",
              "          0,   0,   0,   0,   0,   0,   0,   0,   0,   0,   0,   0,   0,\n",
              "          0,   0],\n",
              "       [  0,   0,   0,   0,   0,   0,   0,   0,   0,   0,   0,   0,   0,\n",
              "          0,   0,   0,   0,   0,   0,   0,   0,   0,   0,   0,   0,   0,\n",
              "          0,   0],\n",
              "       [  0,   0,   0,   0,   0,   0,   0,   0,   0,   0,   0,   0,   0,\n",
              "          0,   0,   0,   0,   0,   0,   0,   0,   0,   0,   0,   0,   0,\n",
              "          0,   0],\n",
              "       [  0,   0,   0,   0,   0,   0,   0,   0,   0,   0,   0,   0,   0,\n",
              "          0,   0,   0,   0,   0,   0,   0,   0,   0,   0,   0,   0,   0,\n",
              "          0,   0],\n",
              "       [  0,   0,   0,   0,   0,   0,   0,   0,   0,   0,   0,   0,   0,\n",
              "          0,   0,   0,   0,   0,   0,   0,   0,   0,   0,   0,   0,   0,\n",
              "          0,   0],\n",
              "       [  0,   0,   0,   0,   0,   0,   0,   0,   0,   0,   0,   0,   0,\n",
              "          0,   0,   0,   0,   0,   0,   0,   0,   0,   0,   0,   0,   0,\n",
              "          0,   0],\n",
              "       [  0,   0,   0,   0,   0,   0,   0,   0,   0,   0,   0,   0,   0,\n",
              "          0,   0,   0,   0,   0,   0,   0,   0,   0,   0,   0,   0,   0,\n",
              "          0,   0],\n",
              "       [  0,   0,   0,   0,   0,   0,  84, 185, 159, 151,  60,  36,   0,\n",
              "          0,   0,   0,   0,   0,   0,   0,   0,   0,   0,   0,   0,   0,\n",
              "          0,   0],\n",
              "       [  0,   0,   0,   0,   0,   0, 222, 254, 254, 254, 254, 241, 198,\n",
              "        198, 198, 198, 198, 198, 198, 198, 170,  52,   0,   0,   0,   0,\n",
              "          0,   0],\n",
              "       [  0,   0,   0,   0,   0,   0,  67, 114,  72, 114, 163, 227, 254,\n",
              "        225, 254, 254, 254, 250, 229, 254, 254, 140,   0,   0,   0,   0,\n",
              "          0,   0],\n",
              "       [  0,   0,   0,   0,   0,   0,   0,   0,   0,   0,   0,  17,  66,\n",
              "         14,  67,  67,  67,  59,  21, 236, 254, 106,   0,   0,   0,   0,\n",
              "          0,   0],\n",
              "       [  0,   0,   0,   0,   0,   0,   0,   0,   0,   0,   0,   0,   0,\n",
              "          0,   0,   0,   0,   0,  83, 253, 209,  18,   0,   0,   0,   0,\n",
              "          0,   0],\n",
              "       [  0,   0,   0,   0,   0,   0,   0,   0,   0,   0,   0,   0,   0,\n",
              "          0,   0,   0,   0,  22, 233, 255,  83,   0,   0,   0,   0,   0,\n",
              "          0,   0],\n",
              "       [  0,   0,   0,   0,   0,   0,   0,   0,   0,   0,   0,   0,   0,\n",
              "          0,   0,   0,   0, 129, 254, 238,  44,   0,   0,   0,   0,   0,\n",
              "          0,   0],\n",
              "       [  0,   0,   0,   0,   0,   0,   0,   0,   0,   0,   0,   0,   0,\n",
              "          0,   0,   0,  59, 249, 254,  62,   0,   0,   0,   0,   0,   0,\n",
              "          0,   0],\n",
              "       [  0,   0,   0,   0,   0,   0,   0,   0,   0,   0,   0,   0,   0,\n",
              "          0,   0,   0, 133, 254, 187,   5,   0,   0,   0,   0,   0,   0,\n",
              "          0,   0],\n",
              "       [  0,   0,   0,   0,   0,   0,   0,   0,   0,   0,   0,   0,   0,\n",
              "          0,   0,   9, 205, 248,  58,   0,   0,   0,   0,   0,   0,   0,\n",
              "          0,   0],\n",
              "       [  0,   0,   0,   0,   0,   0,   0,   0,   0,   0,   0,   0,   0,\n",
              "          0,   0, 126, 254, 182,   0,   0,   0,   0,   0,   0,   0,   0,\n",
              "          0,   0],\n",
              "       [  0,   0,   0,   0,   0,   0,   0,   0,   0,   0,   0,   0,   0,\n",
              "          0,  75, 251, 240,  57,   0,   0,   0,   0,   0,   0,   0,   0,\n",
              "          0,   0],\n",
              "       [  0,   0,   0,   0,   0,   0,   0,   0,   0,   0,   0,   0,   0,\n",
              "         19, 221, 254, 166,   0,   0,   0,   0,   0,   0,   0,   0,   0,\n",
              "          0,   0],\n",
              "       [  0,   0,   0,   0,   0,   0,   0,   0,   0,   0,   0,   0,   3,\n",
              "        203, 254, 219,  35,   0,   0,   0,   0,   0,   0,   0,   0,   0,\n",
              "          0,   0],\n",
              "       [  0,   0,   0,   0,   0,   0,   0,   0,   0,   0,   0,   0,  38,\n",
              "        254, 254,  77,   0,   0,   0,   0,   0,   0,   0,   0,   0,   0,\n",
              "          0,   0],\n",
              "       [  0,   0,   0,   0,   0,   0,   0,   0,   0,   0,   0,  31, 224,\n",
              "        254, 115,   1,   0,   0,   0,   0,   0,   0,   0,   0,   0,   0,\n",
              "          0,   0],\n",
              "       [  0,   0,   0,   0,   0,   0,   0,   0,   0,   0,   0, 133, 254,\n",
              "        254,  52,   0,   0,   0,   0,   0,   0,   0,   0,   0,   0,   0,\n",
              "          0,   0],\n",
              "       [  0,   0,   0,   0,   0,   0,   0,   0,   0,   0,  61, 242, 254,\n",
              "        254,  52,   0,   0,   0,   0,   0,   0,   0,   0,   0,   0,   0,\n",
              "          0,   0],\n",
              "       [  0,   0,   0,   0,   0,   0,   0,   0,   0,   0, 121, 254, 254,\n",
              "        219,  40,   0,   0,   0,   0,   0,   0,   0,   0,   0,   0,   0,\n",
              "          0,   0],\n",
              "       [  0,   0,   0,   0,   0,   0,   0,   0,   0,   0, 121, 254, 207,\n",
              "         18,   0,   0,   0,   0,   0,   0,   0,   0,   0,   0,   0,   0,\n",
              "          0,   0],\n",
              "       [  0,   0,   0,   0,   0,   0,   0,   0,   0,   0,   0,   0,   0,\n",
              "          0,   0,   0,   0,   0,   0,   0,   0,   0,   0,   0,   0,   0,\n",
              "          0,   0]], dtype=uint8)</pre></div><script>\n",
              "      (() => {\n",
              "      const titles = ['show data', 'hide data'];\n",
              "      let index = 0\n",
              "      document.querySelector('#id-22f4004f-3e7b-4904-be77-3c7e6f6baf73 button').onclick = (e) => {\n",
              "        document.querySelector('#id-22f4004f-3e7b-4904-be77-3c7e6f6baf73').classList.toggle('show_array');\n",
              "        index = (++index) % 2;\n",
              "        document.querySelector('#id-22f4004f-3e7b-4904-be77-3c7e6f6baf73 button').textContent = titles[index];\n",
              "        e.preventDefault();\n",
              "        e.stopPropagation();\n",
              "      }\n",
              "      })();\n",
              "    </script>"
            ]
          },
          "metadata": {},
          "execution_count": 40
        }
      ],
      "source": [
        "x_test[0]"
      ]
    },
    {
      "cell_type": "code",
      "execution_count": null,
      "metadata": {
        "colab": {
          "base_uri": "https://localhost:8080/"
        },
        "id": "b8VZBWrGimx2",
        "outputId": "afbc5cbe-e1da-4411-ef68-2aac62d4630d"
      },
      "outputs": [
        {
          "output_type": "execute_result",
          "data": {
            "text/plain": [
              "7"
            ]
          },
          "metadata": {},
          "execution_count": 41
        }
      ],
      "source": [
        "y_test[0]"
      ]
    },
    {
      "cell_type": "markdown",
      "metadata": {
        "id": "_KNduFm1h9yv"
      },
      "source": [
        "So the y_train and y_test are 1 dimensional numpy arrays, consisting of numbers from 0 to 9, which classifies corresponding images to its value"
      ]
    },
    {
      "cell_type": "markdown",
      "metadata": {
        "id": "ktlCp3tYyGyO"
      },
      "source": [
        "# DATA PREPOSSESING\n"
      ]
    },
    {
      "cell_type": "code",
      "execution_count": null,
      "metadata": {
        "colab": {
          "base_uri": "https://localhost:8080/"
        },
        "id": "MPTGgPBdyKC-",
        "outputId": "f4f42f28-c79a-44a0-93bb-dabe342647b3"
      },
      "outputs": [
        {
          "output_type": "stream",
          "name": "stdout",
          "text": [
            "(60000, 784)\n",
            "(10000, 784)\n"
          ]
        }
      ],
      "source": [
        "x_train=x_train.reshape(-1,28*28)\n",
        "x_test=x_test.reshape(-1,28*28)\n",
        "print(x_train.shape)\n",
        "print(x_test.shape)\n",
        "#NOW BOTH ARE 2 dimensional arrays"
      ]
    },
    {
      "cell_type": "code",
      "execution_count": null,
      "metadata": {
        "colab": {
          "base_uri": "https://localhost:8080/"
        },
        "id": "WgN18pioyTT_",
        "outputId": "a8626271-115a-4cf7-cf09-9f703c80d6fd"
      },
      "outputs": [
        {
          "output_type": "stream",
          "name": "stdout",
          "text": [
            "255\n",
            "0\n"
          ]
        }
      ],
      "source": [
        "print(x_train.max())\n",
        "print(x_train.min())"
      ]
    },
    {
      "cell_type": "markdown",
      "metadata": {
        "id": "cobN6s83y30W"
      },
      "source": [
        "As we can see the values of x ranges from 0 to 255, therefore we will normalise the dataset so that we get values of lesser range, so that the gradient descent works prefectly i.e, our model works faster"
      ]
    },
    {
      "cell_type": "code",
      "execution_count": null,
      "metadata": {
        "colab": {
          "base_uri": "https://localhost:8080/"
        },
        "id": "xBfcVgCmyvpz",
        "outputId": "abedc512-3f2a-4b9f-b1ee-add345e6ceaa"
      },
      "outputs": [
        {
          "output_type": "stream",
          "name": "stdout",
          "text": [
            "Range of x_train is : 0.0 and 1.0\n",
            "Range of x_test is:  0.0 and 1.0\n"
          ]
        }
      ],
      "source": [
        "x_train=x_train/255\n",
        "x_test=x_test/255\n",
        "print(\"Range of x_train is :\", x_train.min(),\"and\",x_train.max())\n",
        "print(\"Range of x_test is: \", x_test.min(),\"and\",x_test.max())"
      ]
    },
    {
      "cell_type": "code",
      "execution_count": null,
      "metadata": {
        "colab": {
          "base_uri": "https://localhost:8080/"
        },
        "id": "E6VVQos_zWiB",
        "outputId": "5070655b-2b7c-4733-f770-93e201069396"
      },
      "outputs": [
        {
          "output_type": "execute_result",
          "data": {
            "text/plain": [
              "array([0.        , 0.        , 0.        , 0.        , 0.        ,\n",
              "       0.        , 0.        , 0.        , 0.        , 0.        ,\n",
              "       0.        , 0.        , 0.        , 0.        , 0.        ,\n",
              "       0.        , 0.        , 0.        , 0.        , 0.        ,\n",
              "       0.        , 0.        , 0.        , 0.        , 0.        ,\n",
              "       0.        , 0.        , 0.        , 0.        , 0.        ,\n",
              "       0.        , 0.        , 0.        , 0.        , 0.        ,\n",
              "       0.        , 0.        , 0.        , 0.        , 0.        ,\n",
              "       0.        , 0.        , 0.        , 0.        , 0.        ,\n",
              "       0.        , 0.        , 0.        , 0.        , 0.        ,\n",
              "       0.        , 0.        , 0.        , 0.        , 0.        ,\n",
              "       0.        , 0.        , 0.        , 0.        , 0.        ,\n",
              "       0.        , 0.        , 0.        , 0.        , 0.        ,\n",
              "       0.        , 0.        , 0.        , 0.        , 0.        ,\n",
              "       0.        , 0.        , 0.        , 0.        , 0.        ,\n",
              "       0.        , 0.        , 0.        , 0.        , 0.        ,\n",
              "       0.        , 0.        , 0.        , 0.        , 0.        ,\n",
              "       0.        , 0.        , 0.        , 0.        , 0.        ,\n",
              "       0.        , 0.        , 0.        , 0.        , 0.        ,\n",
              "       0.        , 0.        , 0.        , 0.        , 0.        ,\n",
              "       0.        , 0.        , 0.        , 0.        , 0.        ,\n",
              "       0.        , 0.        , 0.        , 0.        , 0.        ,\n",
              "       0.        , 0.        , 0.        , 0.        , 0.        ,\n",
              "       0.        , 0.        , 0.        , 0.        , 0.        ,\n",
              "       0.        , 0.        , 0.        , 0.        , 0.        ,\n",
              "       0.        , 0.        , 0.        , 0.        , 0.        ,\n",
              "       0.        , 0.        , 0.        , 0.        , 0.        ,\n",
              "       0.        , 0.        , 0.        , 0.        , 0.        ,\n",
              "       0.        , 0.        , 0.        , 0.        , 0.        ,\n",
              "       0.        , 0.        , 0.        , 0.        , 0.        ,\n",
              "       0.        , 0.        , 0.01176471, 0.07058824, 0.07058824,\n",
              "       0.07058824, 0.49411765, 0.53333333, 0.68627451, 0.10196078,\n",
              "       0.65098039, 1.        , 0.96862745, 0.49803922, 0.        ,\n",
              "       0.        , 0.        , 0.        , 0.        , 0.        ,\n",
              "       0.        , 0.        , 0.        , 0.        , 0.        ,\n",
              "       0.        , 0.11764706, 0.14117647, 0.36862745, 0.60392157,\n",
              "       0.66666667, 0.99215686, 0.99215686, 0.99215686, 0.99215686,\n",
              "       0.99215686, 0.88235294, 0.6745098 , 0.99215686, 0.94901961,\n",
              "       0.76470588, 0.25098039, 0.        , 0.        , 0.        ,\n",
              "       0.        , 0.        , 0.        , 0.        , 0.        ,\n",
              "       0.        , 0.        , 0.        , 0.19215686, 0.93333333,\n",
              "       0.99215686, 0.99215686, 0.99215686, 0.99215686, 0.99215686,\n",
              "       0.99215686, 0.99215686, 0.99215686, 0.98431373, 0.36470588,\n",
              "       0.32156863, 0.32156863, 0.21960784, 0.15294118, 0.        ,\n",
              "       0.        , 0.        , 0.        , 0.        , 0.        ,\n",
              "       0.        , 0.        , 0.        , 0.        , 0.        ,\n",
              "       0.        , 0.07058824, 0.85882353, 0.99215686, 0.99215686,\n",
              "       0.99215686, 0.99215686, 0.99215686, 0.77647059, 0.71372549,\n",
              "       0.96862745, 0.94509804, 0.        , 0.        , 0.        ,\n",
              "       0.        , 0.        , 0.        , 0.        , 0.        ,\n",
              "       0.        , 0.        , 0.        , 0.        , 0.        ,\n",
              "       0.        , 0.        , 0.        , 0.        , 0.        ,\n",
              "       0.31372549, 0.61176471, 0.41960784, 0.99215686, 0.99215686,\n",
              "       0.80392157, 0.04313725, 0.        , 0.16862745, 0.60392157,\n",
              "       0.        , 0.        , 0.        , 0.        , 0.        ,\n",
              "       0.        , 0.        , 0.        , 0.        , 0.        ,\n",
              "       0.        , 0.        , 0.        , 0.        , 0.        ,\n",
              "       0.        , 0.        , 0.        , 0.        , 0.05490196,\n",
              "       0.00392157, 0.60392157, 0.99215686, 0.35294118, 0.        ,\n",
              "       0.        , 0.        , 0.        , 0.        , 0.        ,\n",
              "       0.        , 0.        , 0.        , 0.        , 0.        ,\n",
              "       0.        , 0.        , 0.        , 0.        , 0.        ,\n",
              "       0.        , 0.        , 0.        , 0.        , 0.        ,\n",
              "       0.        , 0.        , 0.        , 0.        , 0.54509804,\n",
              "       0.99215686, 0.74509804, 0.00784314, 0.        , 0.        ,\n",
              "       0.        , 0.        , 0.        , 0.        , 0.        ,\n",
              "       0.        , 0.        , 0.        , 0.        , 0.        ,\n",
              "       0.        , 0.        , 0.        , 0.        , 0.        ,\n",
              "       0.        , 0.        , 0.        , 0.        , 0.        ,\n",
              "       0.        , 0.        , 0.04313725, 0.74509804, 0.99215686,\n",
              "       0.2745098 , 0.        , 0.        , 0.        , 0.        ,\n",
              "       0.        , 0.        , 0.        , 0.        , 0.        ,\n",
              "       0.        , 0.        , 0.        , 0.        , 0.        ,\n",
              "       0.        , 0.        , 0.        , 0.        , 0.        ,\n",
              "       0.        , 0.        , 0.        , 0.        , 0.        ,\n",
              "       0.        , 0.1372549 , 0.94509804, 0.88235294, 0.62745098,\n",
              "       0.42352941, 0.00392157, 0.        , 0.        , 0.        ,\n",
              "       0.        , 0.        , 0.        , 0.        , 0.        ,\n",
              "       0.        , 0.        , 0.        , 0.        , 0.        ,\n",
              "       0.        , 0.        , 0.        , 0.        , 0.        ,\n",
              "       0.        , 0.        , 0.        , 0.        , 0.        ,\n",
              "       0.31764706, 0.94117647, 0.99215686, 0.99215686, 0.46666667,\n",
              "       0.09803922, 0.        , 0.        , 0.        , 0.        ,\n",
              "       0.        , 0.        , 0.        , 0.        , 0.        ,\n",
              "       0.        , 0.        , 0.        , 0.        , 0.        ,\n",
              "       0.        , 0.        , 0.        , 0.        , 0.        ,\n",
              "       0.        , 0.        , 0.        , 0.        , 0.17647059,\n",
              "       0.72941176, 0.99215686, 0.99215686, 0.58823529, 0.10588235,\n",
              "       0.        , 0.        , 0.        , 0.        , 0.        ,\n",
              "       0.        , 0.        , 0.        , 0.        , 0.        ,\n",
              "       0.        , 0.        , 0.        , 0.        , 0.        ,\n",
              "       0.        , 0.        , 0.        , 0.        , 0.        ,\n",
              "       0.        , 0.        , 0.        , 0.0627451 , 0.36470588,\n",
              "       0.98823529, 0.99215686, 0.73333333, 0.        , 0.        ,\n",
              "       0.        , 0.        , 0.        , 0.        , 0.        ,\n",
              "       0.        , 0.        , 0.        , 0.        , 0.        ,\n",
              "       0.        , 0.        , 0.        , 0.        , 0.        ,\n",
              "       0.        , 0.        , 0.        , 0.        , 0.        ,\n",
              "       0.        , 0.        , 0.        , 0.97647059, 0.99215686,\n",
              "       0.97647059, 0.25098039, 0.        , 0.        , 0.        ,\n",
              "       0.        , 0.        , 0.        , 0.        , 0.        ,\n",
              "       0.        , 0.        , 0.        , 0.        , 0.        ,\n",
              "       0.        , 0.        , 0.        , 0.        , 0.        ,\n",
              "       0.        , 0.        , 0.        , 0.18039216, 0.50980392,\n",
              "       0.71764706, 0.99215686, 0.99215686, 0.81176471, 0.00784314,\n",
              "       0.        , 0.        , 0.        , 0.        , 0.        ,\n",
              "       0.        , 0.        , 0.        , 0.        , 0.        ,\n",
              "       0.        , 0.        , 0.        , 0.        , 0.        ,\n",
              "       0.        , 0.        , 0.        , 0.        , 0.15294118,\n",
              "       0.58039216, 0.89803922, 0.99215686, 0.99215686, 0.99215686,\n",
              "       0.98039216, 0.71372549, 0.        , 0.        , 0.        ,\n",
              "       0.        , 0.        , 0.        , 0.        , 0.        ,\n",
              "       0.        , 0.        , 0.        , 0.        , 0.        ,\n",
              "       0.        , 0.        , 0.        , 0.        , 0.        ,\n",
              "       0.09411765, 0.44705882, 0.86666667, 0.99215686, 0.99215686,\n",
              "       0.99215686, 0.99215686, 0.78823529, 0.30588235, 0.        ,\n",
              "       0.        , 0.        , 0.        , 0.        , 0.        ,\n",
              "       0.        , 0.        , 0.        , 0.        , 0.        ,\n",
              "       0.        , 0.        , 0.        , 0.        , 0.        ,\n",
              "       0.        , 0.09019608, 0.25882353, 0.83529412, 0.99215686,\n",
              "       0.99215686, 0.99215686, 0.99215686, 0.77647059, 0.31764706,\n",
              "       0.00784314, 0.        , 0.        , 0.        , 0.        ,\n",
              "       0.        , 0.        , 0.        , 0.        , 0.        ,\n",
              "       0.        , 0.        , 0.        , 0.        , 0.        ,\n",
              "       0.        , 0.        , 0.07058824, 0.67058824, 0.85882353,\n",
              "       0.99215686, 0.99215686, 0.99215686, 0.99215686, 0.76470588,\n",
              "       0.31372549, 0.03529412, 0.        , 0.        , 0.        ,\n",
              "       0.        , 0.        , 0.        , 0.        , 0.        ,\n",
              "       0.        , 0.        , 0.        , 0.        , 0.        ,\n",
              "       0.        , 0.        , 0.        , 0.21568627, 0.6745098 ,\n",
              "       0.88627451, 0.99215686, 0.99215686, 0.99215686, 0.99215686,\n",
              "       0.95686275, 0.52156863, 0.04313725, 0.        , 0.        ,\n",
              "       0.        , 0.        , 0.        , 0.        , 0.        ,\n",
              "       0.        , 0.        , 0.        , 0.        , 0.        ,\n",
              "       0.        , 0.        , 0.        , 0.        , 0.        ,\n",
              "       0.        , 0.53333333, 0.99215686, 0.99215686, 0.99215686,\n",
              "       0.83137255, 0.52941176, 0.51764706, 0.0627451 , 0.        ,\n",
              "       0.        , 0.        , 0.        , 0.        , 0.        ,\n",
              "       0.        , 0.        , 0.        , 0.        , 0.        ,\n",
              "       0.        , 0.        , 0.        , 0.        , 0.        ,\n",
              "       0.        , 0.        , 0.        , 0.        , 0.        ,\n",
              "       0.        , 0.        , 0.        , 0.        , 0.        ,\n",
              "       0.        , 0.        , 0.        , 0.        , 0.        ,\n",
              "       0.        , 0.        , 0.        , 0.        , 0.        ,\n",
              "       0.        , 0.        , 0.        , 0.        , 0.        ,\n",
              "       0.        , 0.        , 0.        , 0.        , 0.        ,\n",
              "       0.        , 0.        , 0.        , 0.        , 0.        ,\n",
              "       0.        , 0.        , 0.        , 0.        , 0.        ,\n",
              "       0.        , 0.        , 0.        , 0.        , 0.        ,\n",
              "       0.        , 0.        , 0.        , 0.        , 0.        ,\n",
              "       0.        , 0.        , 0.        , 0.        , 0.        ,\n",
              "       0.        , 0.        , 0.        , 0.        , 0.        ,\n",
              "       0.        , 0.        , 0.        , 0.        , 0.        ,\n",
              "       0.        , 0.        , 0.        , 0.        , 0.        ,\n",
              "       0.        , 0.        , 0.        , 0.        , 0.        ,\n",
              "       0.        , 0.        , 0.        , 0.        , 0.        ,\n",
              "       0.        , 0.        , 0.        , 0.        ])"
            ]
          },
          "metadata": {},
          "execution_count": 45
        }
      ],
      "source": [
        "x_train[0]"
      ]
    },
    {
      "cell_type": "code",
      "execution_count": null,
      "metadata": {
        "colab": {
          "base_uri": "https://localhost:8080/"
        },
        "id": "y_3T6MEM3KK6",
        "outputId": "c45ec17e-ca87-460b-c24a-d6942c5028f9"
      },
      "outputs": [
        {
          "output_type": "stream",
          "name": "stdout",
          "text": [
            "New shape of x_train =  (48000, 784)\n",
            "New shape of x_test =  (12000, 784)\n",
            "New shape of y_train =  (48000,)\n",
            "New shape of y_test =  (12000,)\n"
          ]
        }
      ],
      "source": [
        "# making cross validation set from the training set\n",
        "x_train,x_cv,y_train,y_cv=train_test_split(x_train,y_train,test_size=0.2,random_state=42)\n",
        "print(\"New shape of x_train = \",x_train.shape)\n",
        "print(\"New shape of x_test = \" ,x_cv.shape)\n",
        "print(\"New shape of y_train = \",y_train.shape)\n",
        "print(\"New shape of y_test = \",y_cv.shape)"
      ]
    },
    {
      "cell_type": "markdown",
      "metadata": {
        "id": "VQU-81XQ0pUa"
      },
      "source": [
        "# BUILDING A NEURAL NETWORK"
      ]
    },
    {
      "cell_type": "markdown",
      "metadata": {
        "id": "tUheKlhfIfHo"
      },
      "source": [
        "## ATTEMPT 1"
      ]
    },
    {
      "cell_type": "code",
      "execution_count": null,
      "metadata": {
        "id": "u-YGUEcU0wLF",
        "colab": {
          "base_uri": "https://localhost:8080/"
        },
        "outputId": "f44256e8-4c88-476e-9889-9859350d69e0"
      },
      "outputs": [
        {
          "output_type": "stream",
          "name": "stdout",
          "text": [
            "Epoch 1/20\n",
            "1500/1500 [==============================] - 9s 5ms/step - loss: 0.4788 - accuracy: 0.8616 - val_loss: 0.2544 - val_accuracy: 0.9266\n",
            "Epoch 2/20\n",
            "1500/1500 [==============================] - 4s 3ms/step - loss: 0.2246 - accuracy: 0.9356 - val_loss: 0.2067 - val_accuracy: 0.9398\n",
            "Epoch 3/20\n",
            "1500/1500 [==============================] - 4s 3ms/step - loss: 0.1846 - accuracy: 0.9460 - val_loss: 0.1772 - val_accuracy: 0.9481\n",
            "Epoch 4/20\n",
            "1500/1500 [==============================] - 5s 4ms/step - loss: 0.1616 - accuracy: 0.9523 - val_loss: 0.1687 - val_accuracy: 0.9513\n",
            "Epoch 5/20\n",
            "1500/1500 [==============================] - 4s 3ms/step - loss: 0.1452 - accuracy: 0.9569 - val_loss: 0.1745 - val_accuracy: 0.9483\n",
            "Epoch 6/20\n",
            "1500/1500 [==============================] - 4s 3ms/step - loss: 0.1306 - accuracy: 0.9614 - val_loss: 0.1584 - val_accuracy: 0.9513\n",
            "Epoch 7/20\n",
            "1500/1500 [==============================] - 5s 3ms/step - loss: 0.1206 - accuracy: 0.9632 - val_loss: 0.1468 - val_accuracy: 0.9564\n",
            "Epoch 8/20\n",
            "1500/1500 [==============================] - 4s 3ms/step - loss: 0.1122 - accuracy: 0.9661 - val_loss: 0.1514 - val_accuracy: 0.9556\n",
            "Epoch 9/20\n",
            "1500/1500 [==============================] - 4s 3ms/step - loss: 0.1035 - accuracy: 0.9689 - val_loss: 0.1465 - val_accuracy: 0.9569\n",
            "Epoch 10/20\n",
            "1500/1500 [==============================] - 5s 4ms/step - loss: 0.0979 - accuracy: 0.9704 - val_loss: 0.1386 - val_accuracy: 0.9589\n",
            "Epoch 11/20\n",
            "1500/1500 [==============================] - 4s 3ms/step - loss: 0.0918 - accuracy: 0.9729 - val_loss: 0.1507 - val_accuracy: 0.9575\n",
            "Epoch 12/20\n",
            "1500/1500 [==============================] - 4s 3ms/step - loss: 0.0865 - accuracy: 0.9738 - val_loss: 0.1641 - val_accuracy: 0.9515\n",
            "Epoch 13/20\n",
            "1500/1500 [==============================] - 5s 4ms/step - loss: 0.0831 - accuracy: 0.9747 - val_loss: 0.1408 - val_accuracy: 0.9598\n",
            "Epoch 14/20\n",
            "1500/1500 [==============================] - 4s 3ms/step - loss: 0.0782 - accuracy: 0.9758 - val_loss: 0.1425 - val_accuracy: 0.9585\n",
            "Epoch 15/20\n",
            "1500/1500 [==============================] - 4s 3ms/step - loss: 0.0735 - accuracy: 0.9771 - val_loss: 0.1451 - val_accuracy: 0.9578\n",
            "Epoch 16/20\n",
            "1500/1500 [==============================] - 5s 3ms/step - loss: 0.0699 - accuracy: 0.9781 - val_loss: 0.1431 - val_accuracy: 0.9605\n",
            "Epoch 17/20\n",
            "1500/1500 [==============================] - 4s 3ms/step - loss: 0.0671 - accuracy: 0.9780 - val_loss: 0.1462 - val_accuracy: 0.9599\n",
            "Epoch 18/20\n",
            "1500/1500 [==============================] - 4s 3ms/step - loss: 0.0642 - accuracy: 0.9792 - val_loss: 0.1432 - val_accuracy: 0.9607\n",
            "Epoch 19/20\n",
            "1500/1500 [==============================] - 5s 3ms/step - loss: 0.0605 - accuracy: 0.9811 - val_loss: 0.1451 - val_accuracy: 0.9607\n",
            "Epoch 20/20\n",
            "1500/1500 [==============================] - 4s 3ms/step - loss: 0.0583 - accuracy: 0.9819 - val_loss: 0.1460 - val_accuracy: 0.9613\n"
          ]
        }
      ],
      "source": [
        "model=Sequential(\n",
        "    [\n",
        "        Dense(units=25,activation='relu'),\n",
        "        Dense(units=15,activation='relu'),\n",
        "        Dense(units=10,activation='softmax')\n",
        "    ]\n",
        ")\n",
        "\n",
        "model.compile(loss=SparseCategoricalCrossentropy(),optimizer='Adam',metrics=['accuracy'])\n",
        "\n",
        "history = model.fit(x_train, y_train, epochs=20, validation_data=(x_cv, y_cv))"
      ]
    },
    {
      "cell_type": "code",
      "execution_count": null,
      "metadata": {
        "colab": {
          "base_uri": "https://localhost:8080/"
        },
        "id": "ceFfDBhoLh4b",
        "outputId": "ce31dc60-ccfb-4a6e-f4bb-112d751a0dec"
      },
      "outputs": [
        {
          "output_type": "stream",
          "name": "stdout",
          "text": [
            "375/375 [==============================] - 1s 2ms/step - loss: 0.1460 - accuracy: 0.9613\n",
            "Validation loss =  0.14601173996925354\n",
            "Validation accuracy =  0.9612500071525574\n"
          ]
        }
      ],
      "source": [
        "# Evaluate the model\n",
        "loss, accuracy = model.evaluate(x_cv, y_cv)\n",
        "print(\"Validation loss = \",loss)\n",
        "print(\"Validation accuracy = \",accuracy)"
      ]
    },
    {
      "cell_type": "code",
      "execution_count": null,
      "metadata": {
        "colab": {
          "base_uri": "https://localhost:8080/",
          "height": 449
        },
        "id": "3fAF14aPLZZ6",
        "outputId": "5e0f1043-d43d-48ac-88c9-70ae06bb6d2d"
      },
      "outputs": [
        {
          "output_type": "display_data",
          "data": {
            "text/plain": [
              "<Figure size 640x480 with 1 Axes>"
            ],
            "image/png": "[encoded data removed]"
          },
          "metadata": {}
        }
      ],
      "source": [
        "plt.plot(history.history['loss'], label='Training Loss')\n",
        "plt.plot(history.history['val_loss'], label='Validation Loss')\n",
        "plt.xlabel('Epochs')\n",
        "plt.ylabel('Loss')\n",
        "plt.legend()\n",
        "plt.show()"
      ]
    },
    {
      "cell_type": "markdown",
      "source": [
        "The model seems to learn good on training data, but doesn't work well on cross validation set, it means we can add more hyper parameters"
      ],
      "metadata": {
        "id": "Q-EjLPO1hLZM"
      }
    },
    {
      "cell_type": "markdown",
      "metadata": {
        "id": "VLPvpZjjI3Vr"
      },
      "source": [
        "## ATTEMPT 2"
      ]
    },
    {
      "cell_type": "markdown",
      "metadata": {
        "id": "Y88UMNG-P2H3"
      },
      "source": [
        "As the model was predicting very good on training set, but didn't perform well on validation set, thus it means that model is overfitting. So to solve that , I  added L2 Regularization to each layers"
      ]
    },
    {
      "cell_type": "code",
      "execution_count": null,
      "metadata": {
        "colab": {
          "base_uri": "https://localhost:8080/"
        },
        "id": "eXlJuLJjNIJO",
        "outputId": "55e5915d-eec6-4d57-b658-a101834dda72"
      },
      "outputs": [
        {
          "output_type": "stream",
          "name": "stdout",
          "text": [
            "Epoch 1/20\n",
            "1500/1500 [==============================] - 6s 3ms/step - loss: 1.0917 - accuracy: 0.8040 - val_loss: 0.8210 - val_accuracy: 0.8997\n",
            "Epoch 2/20\n",
            "1500/1500 [==============================] - 6s 4ms/step - loss: 0.8192 - accuracy: 0.8952 - val_loss: 0.7985 - val_accuracy: 0.8975\n",
            "Epoch 3/20\n",
            "1500/1500 [==============================] - 4s 3ms/step - loss: 0.7984 - accuracy: 0.9010 - val_loss: 0.7892 - val_accuracy: 0.9038\n",
            "Epoch 4/20\n",
            "1500/1500 [==============================] - 5s 4ms/step - loss: 0.7915 - accuracy: 0.9008 - val_loss: 0.7853 - val_accuracy: 0.9013\n",
            "Epoch 5/20\n",
            "1500/1500 [==============================] - 4s 3ms/step - loss: 0.7857 - accuracy: 0.9022 - val_loss: 0.7750 - val_accuracy: 0.9047\n",
            "Epoch 6/20\n",
            "1500/1500 [==============================] - 4s 3ms/step - loss: 0.7826 - accuracy: 0.9032 - val_loss: 0.7769 - val_accuracy: 0.9042\n",
            "Epoch 7/20\n",
            "1500/1500 [==============================] - 5s 3ms/step - loss: 0.7793 - accuracy: 0.9040 - val_loss: 0.7746 - val_accuracy: 0.9032\n",
            "Epoch 8/20\n",
            "1500/1500 [==============================] - 4s 3ms/step - loss: 0.7772 - accuracy: 0.9055 - val_loss: 0.7660 - val_accuracy: 0.9100\n",
            "Epoch 9/20\n",
            "1500/1500 [==============================] - 4s 3ms/step - loss: 0.7753 - accuracy: 0.9042 - val_loss: 0.7672 - val_accuracy: 0.9073\n",
            "Epoch 10/20\n",
            "1500/1500 [==============================] - 5s 3ms/step - loss: 0.7735 - accuracy: 0.9055 - val_loss: 0.7759 - val_accuracy: 0.9014\n",
            "Epoch 11/20\n",
            "1500/1500 [==============================] - 4s 3ms/step - loss: 0.7711 - accuracy: 0.9082 - val_loss: 0.7648 - val_accuracy: 0.9107\n",
            "Epoch 12/20\n",
            "1500/1500 [==============================] - 4s 3ms/step - loss: 0.7701 - accuracy: 0.9074 - val_loss: 0.7642 - val_accuracy: 0.9091\n",
            "Epoch 13/20\n",
            "1500/1500 [==============================] - 5s 3ms/step - loss: 0.7678 - accuracy: 0.9082 - val_loss: 0.7615 - val_accuracy: 0.9125\n",
            "Epoch 14/20\n",
            "1500/1500 [==============================] - 4s 3ms/step - loss: 0.7662 - accuracy: 0.9084 - val_loss: 0.7631 - val_accuracy: 0.9097\n",
            "Epoch 15/20\n",
            "1500/1500 [==============================] - 4s 3ms/step - loss: 0.7661 - accuracy: 0.9093 - val_loss: 0.7645 - val_accuracy: 0.9101\n",
            "Epoch 16/20\n",
            "1500/1500 [==============================] - 5s 3ms/step - loss: 0.7655 - accuracy: 0.9097 - val_loss: 0.7579 - val_accuracy: 0.9121\n",
            "Epoch 17/20\n",
            "1500/1500 [==============================] - 4s 3ms/step - loss: 0.7645 - accuracy: 0.9091 - val_loss: 0.7666 - val_accuracy: 0.9103\n",
            "Epoch 18/20\n",
            "1500/1500 [==============================] - 4s 3ms/step - loss: 0.7649 - accuracy: 0.9091 - val_loss: 0.7594 - val_accuracy: 0.9087\n",
            "Epoch 19/20\n",
            "1500/1500 [==============================] - 5s 3ms/step - loss: 0.7635 - accuracy: 0.9107 - val_loss: 0.7675 - val_accuracy: 0.9128\n",
            "Epoch 20/20\n",
            "1500/1500 [==============================] - 4s 3ms/step - loss: 0.7623 - accuracy: 0.9097 - val_loss: 0.7539 - val_accuracy: 0.9135\n"
          ]
        }
      ],
      "source": [
        "model2=Sequential(\n",
        "    [\n",
        "        Dense(units=25,activation='relu',name=\"layer1\",kernel_regularizer=l2(0.01)),\n",
        "        Dense(units=10,activation='relu',name=\"layer2\",kernel_regularizer=l2(0.01)),\n",
        "        Dense(units=10,activation='softmax',name=\"output\",kernel_regularizer=l2(0.01))\n",
        "    ])\n",
        "\n",
        "model2.compile(loss=SparseCategoricalCrossentropy(),optimizer='Adam',metrics=['accuracy'])\n",
        "\n",
        "history2=model2.fit(x_train,y_train,epochs=20,validation_data=(x_cv,y_cv))\n"
      ]
    },
    {
      "cell_type": "code",
      "execution_count": null,
      "metadata": {
        "colab": {
          "base_uri": "https://localhost:8080/"
        },
        "id": "jggXfT4rNsmi",
        "outputId": "eebbcee0-6c55-4ee5-be47-7cb8672332da"
      },
      "outputs": [
        {
          "output_type": "stream",
          "name": "stdout",
          "text": [
            "375/375 [==============================] - 1s 2ms/step - loss: 0.7539 - accuracy: 0.9135\n",
            "Validation loss =  0.7539293766021729\n",
            "Validation accuracy =  0.9135000109672546\n"
          ]
        }
      ],
      "source": [
        "# Evaluate the model\n",
        "loss, accuracy = model2.evaluate(x_cv, y_cv)\n",
        "print(\"Validation loss = \",loss)\n",
        "print(\"Validation accuracy = \",accuracy)"
      ]
    },
    {
      "cell_type": "code",
      "execution_count": null,
      "metadata": {
        "colab": {
          "base_uri": "https://localhost:8080/",
          "height": 449
        },
        "id": "okSFY9J1N0KG",
        "outputId": "827084be-2b98-43d1-8df6-d16a7c6f06bf"
      },
      "outputs": [
        {
          "output_type": "display_data",
          "data": {
            "text/plain": [
              "<Figure size 640x480 with 1 Axes>"
            ],
            "image/png": "[encoded data removed]"
          },
          "metadata": {}
        }
      ],
      "source": [
        "plt.plot(history2.history['loss'], label='Training Loss')\n",
        "plt.plot(history2.history['val_loss'], label='Validation Loss')\n",
        "plt.xlabel('Epochs')\n",
        "plt.ylabel('Loss')\n",
        "plt.legend()\n",
        "plt.show()"
      ]
    },
    {
      "cell_type": "markdown",
      "metadata": {
        "id": "mbwg3mjGQMXM"
      },
      "source": [
        "## ATTEMPT 3"
      ]
    },
    {
      "cell_type": "markdown",
      "metadata": {
        "id": "Vr1hwydYXV8p"
      },
      "source": [
        "Changed the model's architechture"
      ]
    },
    {
      "cell_type": "code",
      "execution_count": null,
      "metadata": {
        "colab": {
          "base_uri": "https://localhost:8080/"
        },
        "id": "ys4WpoekOEf2",
        "outputId": "31d8c818-d38c-4d75-d83c-cfb5b0b2b023"
      },
      "outputs": [
        {
          "output_type": "stream",
          "name": "stdout",
          "text": [
            "Epoch 1/20\n",
            "1500/1500 [==============================] - 10s 6ms/step - loss: 0.2839 - accuracy: 0.9152 - val_loss: 0.1415 - val_accuracy: 0.9578\n",
            "Epoch 2/20\n",
            "1500/1500 [==============================] - 6s 4ms/step - loss: 0.1153 - accuracy: 0.9653 - val_loss: 0.1056 - val_accuracy: 0.9673\n",
            "Epoch 3/20\n",
            "1500/1500 [==============================] - 8s 5ms/step - loss: 0.0799 - accuracy: 0.9755 - val_loss: 0.1019 - val_accuracy: 0.9687\n",
            "Epoch 4/20\n",
            "1500/1500 [==============================] - 6s 4ms/step - loss: 0.0625 - accuracy: 0.9806 - val_loss: 0.0983 - val_accuracy: 0.9720\n",
            "Epoch 5/20\n",
            "1500/1500 [==============================] - 8s 5ms/step - loss: 0.0496 - accuracy: 0.9844 - val_loss: 0.0956 - val_accuracy: 0.9728\n",
            "Epoch 6/20\n",
            "1500/1500 [==============================] - 6s 4ms/step - loss: 0.0410 - accuracy: 0.9867 - val_loss: 0.1056 - val_accuracy: 0.9707\n",
            "Epoch 7/20\n",
            "1500/1500 [==============================] - 9s 6ms/step - loss: 0.0337 - accuracy: 0.9891 - val_loss: 0.1069 - val_accuracy: 0.9721\n",
            "Epoch 8/20\n",
            "1500/1500 [==============================] - 8s 5ms/step - loss: 0.0314 - accuracy: 0.9897 - val_loss: 0.1081 - val_accuracy: 0.9704\n",
            "Epoch 9/20\n",
            "1500/1500 [==============================] - 6s 4ms/step - loss: 0.0245 - accuracy: 0.9919 - val_loss: 0.1107 - val_accuracy: 0.9714\n",
            "Epoch 10/20\n",
            "1500/1500 [==============================] - 8s 5ms/step - loss: 0.0236 - accuracy: 0.9921 - val_loss: 0.1111 - val_accuracy: 0.9737\n",
            "Epoch 11/20\n",
            "1500/1500 [==============================] - 6s 4ms/step - loss: 0.0189 - accuracy: 0.9938 - val_loss: 0.1201 - val_accuracy: 0.9747\n",
            "Epoch 12/20\n",
            "1500/1500 [==============================] - 9s 6ms/step - loss: 0.0186 - accuracy: 0.9938 - val_loss: 0.1133 - val_accuracy: 0.9758\n",
            "Epoch 13/20\n",
            "1500/1500 [==============================] - 6s 4ms/step - loss: 0.0191 - accuracy: 0.9938 - val_loss: 0.1137 - val_accuracy: 0.9753\n",
            "Epoch 14/20\n",
            "1500/1500 [==============================] - 8s 5ms/step - loss: 0.0150 - accuracy: 0.9949 - val_loss: 0.1140 - val_accuracy: 0.9769\n",
            "Epoch 15/20\n",
            "1500/1500 [==============================] - 8s 5ms/step - loss: 0.0181 - accuracy: 0.9942 - val_loss: 0.1030 - val_accuracy: 0.9763\n",
            "Epoch 16/20\n",
            "1500/1500 [==============================] - 8s 5ms/step - loss: 0.0114 - accuracy: 0.9961 - val_loss: 0.1394 - val_accuracy: 0.9732\n",
            "Epoch 17/20\n",
            "1500/1500 [==============================] - 8s 5ms/step - loss: 0.0156 - accuracy: 0.9948 - val_loss: 0.1167 - val_accuracy: 0.9780\n",
            "Epoch 18/20\n",
            "1500/1500 [==============================] - 6s 4ms/step - loss: 0.0126 - accuracy: 0.9958 - val_loss: 0.1290 - val_accuracy: 0.9768\n",
            "Epoch 19/20\n",
            "1500/1500 [==============================] - 8s 5ms/step - loss: 0.0146 - accuracy: 0.9956 - val_loss: 0.1295 - val_accuracy: 0.9770\n",
            "Epoch 20/20\n",
            "1500/1500 [==============================] - 7s 5ms/step - loss: 0.0112 - accuracy: 0.9963 - val_loss: 0.1229 - val_accuracy: 0.9775\n"
          ]
        }
      ],
      "source": [
        "model3=Sequential(\n",
        "    [\n",
        "        Dense(units=130,activation='relu',name=\"layer1\"),\n",
        "        Dense(units=60,activation='relu',name=\"layer2\"),\n",
        "        Dense(units=30,activation='relu',name=\"layer3\"),\n",
        "        Dense(units=10,activation='softmax',name=\"output\")\n",
        "    ])\n",
        "\n",
        "\n",
        "model3.compile(optimizer=\"Adam\", loss=SparseCategoricalCrossentropy(), metrics=['accuracy'])\n",
        "\n",
        "history3=model3.fit(x_train,y_train,epochs=20,validation_data=(x_cv,y_cv))"
      ]
    },
    {
      "cell_type": "code",
      "execution_count": null,
      "metadata": {
        "colab": {
          "base_uri": "https://localhost:8080/"
        },
        "id": "5PZPrW-nSRiS",
        "outputId": "14a011a8-9e9b-472b-f8b9-caf47e02b39a"
      },
      "outputs": [
        {
          "output_type": "stream",
          "name": "stdout",
          "text": [
            "375/375 [==============================] - 1s 3ms/step - loss: 0.1229 - accuracy: 0.9775\n",
            "Validation loss =  0.1228826567530632\n",
            "Validation accuracy =  0.9775000214576721\n"
          ]
        }
      ],
      "source": [
        "# Evaluate the model\n",
        "loss, accuracy = model3.evaluate(x_cv, y_cv)\n",
        "print(\"Validation loss = \",loss)\n",
        "print(\"Validation accuracy = \",accuracy)"
      ]
    },
    {
      "cell_type": "code",
      "execution_count": null,
      "metadata": {
        "colab": {
          "base_uri": "https://localhost:8080/",
          "height": 449
        },
        "id": "UzwieCxhSXZV",
        "outputId": "f48c14ef-d21e-4923-fbb7-1f6739ca612d"
      },
      "outputs": [
        {
          "output_type": "display_data",
          "data": {
            "text/plain": [
              "<Figure size 640x480 with 1 Axes>"
            ],
            "image/png": "[encoded data removed]"
          },
          "metadata": {}
        }
      ],
      "source": [
        "plt.plot(history3.history['loss'], label='Training Loss')\n",
        "plt.plot(history3.history['val_loss'], label='Validation Loss')\n",
        "plt.xlabel('Epochs')\n",
        "plt.ylabel('Loss')\n",
        "plt.legend()\n",
        "plt.show()"
      ]
    },
    {
      "cell_type": "markdown",
      "source": [
        "This learns well on both the dataset(as we got lower loss than both the above models on both the dataset) but the loss curve for cross validation is not converging, thus this can't  be finalised as my final model."
      ],
      "metadata": {
        "id": "y24Wh5hJjD4e"
      }
    },
    {
      "cell_type": "markdown",
      "metadata": {
        "id": "AOYj7CS0XrWQ"
      },
      "source": [
        "## ATTEMPT 4"
      ]
    },
    {
      "cell_type": "markdown",
      "source": [
        "In this model, I added L2 regularization."
      ],
      "metadata": {
        "id": "L2UusZYn0olm"
      }
    },
    {
      "cell_type": "code",
      "execution_count": null,
      "metadata": {
        "colab": {
          "base_uri": "https://localhost:8080/"
        },
        "id": "QUZKVNUuXqew",
        "outputId": "5052e4f8-4dd8-4374-ed4b-bc268f1cf0db"
      },
      "outputs": [
        {
          "output_type": "stream",
          "name": "stdout",
          "text": [
            "Epoch 1/20\n",
            "1500/1500 [==============================] - 12s 7ms/step - loss: 1.2266 - accuracy: 0.8710 - val_loss: 0.9079 - val_accuracy: 0.9028\n",
            "Epoch 2/20\n",
            "1500/1500 [==============================] - 8s 6ms/step - loss: 0.8837 - accuracy: 0.9041 - val_loss: 0.8930 - val_accuracy: 0.8913\n",
            "Epoch 3/20\n",
            "1500/1500 [==============================] - 8s 5ms/step - loss: 0.8508 - accuracy: 0.9082 - val_loss: 0.8428 - val_accuracy: 0.9068\n",
            "Epoch 4/20\n",
            "1500/1500 [==============================] - 8s 6ms/step - loss: 0.8349 - accuracy: 0.9119 - val_loss: 0.8249 - val_accuracy: 0.9169\n",
            "Epoch 5/20\n",
            "1500/1500 [==============================] - 8s 5ms/step - loss: 0.8252 - accuracy: 0.9141 - val_loss: 0.8181 - val_accuracy: 0.9159\n",
            "Epoch 6/20\n",
            "1500/1500 [==============================] - 8s 5ms/step - loss: 0.8195 - accuracy: 0.9144 - val_loss: 0.8022 - val_accuracy: 0.9219\n",
            "Epoch 7/20\n",
            "1500/1500 [==============================] - 8s 6ms/step - loss: 0.8141 - accuracy: 0.9150 - val_loss: 0.8024 - val_accuracy: 0.9178\n",
            "Epoch 8/20\n",
            "1500/1500 [==============================] - 7s 5ms/step - loss: 0.8084 - accuracy: 0.9162 - val_loss: 0.8034 - val_accuracy: 0.9155\n",
            "Epoch 9/20\n",
            "1500/1500 [==============================] - 9s 6ms/step - loss: 0.8087 - accuracy: 0.9149 - val_loss: 0.8046 - val_accuracy: 0.9147\n",
            "Epoch 10/20\n",
            "1500/1500 [==============================] - 7s 5ms/step - loss: 0.8015 - accuracy: 0.9160 - val_loss: 0.7847 - val_accuracy: 0.9229\n",
            "Epoch 11/20\n",
            "1500/1500 [==============================] - 8s 5ms/step - loss: 0.7976 - accuracy: 0.9169 - val_loss: 0.7838 - val_accuracy: 0.9246\n",
            "Epoch 12/20\n",
            "1500/1500 [==============================] - 7s 5ms/step - loss: 0.7932 - accuracy: 0.9180 - val_loss: 0.7913 - val_accuracy: 0.9220\n",
            "Epoch 13/20\n",
            "1500/1500 [==============================] - 8s 5ms/step - loss: 0.7902 - accuracy: 0.9174 - val_loss: 0.8050 - val_accuracy: 0.9102\n",
            "Epoch 14/20\n",
            "1500/1500 [==============================] - 9s 6ms/step - loss: 0.7893 - accuracy: 0.9164 - val_loss: 0.7939 - val_accuracy: 0.9204\n",
            "Epoch 15/20\n",
            "1500/1500 [==============================] - 7s 5ms/step - loss: 0.7889 - accuracy: 0.9172 - val_loss: 0.7813 - val_accuracy: 0.9203\n",
            "Epoch 16/20\n",
            "1500/1500 [==============================] - 9s 6ms/step - loss: 0.7866 - accuracy: 0.9178 - val_loss: 0.8042 - val_accuracy: 0.9119\n",
            "Epoch 17/20\n",
            "1500/1500 [==============================] - 8s 5ms/step - loss: 0.7855 - accuracy: 0.9170 - val_loss: 0.7761 - val_accuracy: 0.9216\n",
            "Epoch 18/20\n",
            "1500/1500 [==============================] - 8s 5ms/step - loss: 0.7864 - accuracy: 0.9173 - val_loss: 0.7810 - val_accuracy: 0.9194\n",
            "Epoch 19/20\n",
            "1500/1500 [==============================] - 9s 6ms/step - loss: 0.7841 - accuracy: 0.9189 - val_loss: 0.7915 - val_accuracy: 0.9145\n",
            "Epoch 20/20\n",
            "1500/1500 [==============================] - 8s 5ms/step - loss: 0.7846 - accuracy: 0.9168 - val_loss: 0.7702 - val_accuracy: 0.9234\n"
          ]
        }
      ],
      "source": [
        "model4 = Sequential([\n",
        "    Dense(units=128, activation='relu', kernel_regularizer=l2(0.01)),\n",
        "    Dense(units=64, activation='relu',  kernel_regularizer=l2(0.01)),\n",
        "    Dense(units=32, activation='relu',  kernel_regularizer=l2(0.01)),\n",
        "    Dense(units=10, activation='softmax', kernel_regularizer=l2(0.01))\n",
        "])\n",
        "\n",
        "model4.compile(optimizer=\"Adam\", loss=SparseCategoricalCrossentropy(), metrics=['accuracy'])\n",
        "\n",
        "history4 = model4.fit(x_train, y_train, epochs=20, validation_data=(x_cv, y_cv))"
      ]
    },
    {
      "cell_type": "code",
      "execution_count": null,
      "metadata": {
        "colab": {
          "base_uri": "https://localhost:8080/"
        },
        "id": "xvKxQCTdY7Kx",
        "outputId": "cb2538b0-7b43-47eb-dbaa-049d9a6f3fcd"
      },
      "outputs": [
        {
          "output_type": "stream",
          "name": "stdout",
          "text": [
            "375/375 [==============================] - 1s 2ms/step - loss: 0.7702 - accuracy: 0.9234\n",
            "Validation loss =  0.7701987028121948\n",
            "Validation accuracy =  0.9234166741371155\n"
          ]
        }
      ],
      "source": [
        "# Evaluate the model\n",
        "loss, accuracy = model4.evaluate(x_cv, y_cv)\n",
        "print(\"Validation loss = \",loss)\n",
        "print(\"Validation accuracy = \",accuracy)"
      ]
    },
    {
      "cell_type": "code",
      "execution_count": null,
      "metadata": {
        "colab": {
          "base_uri": "https://localhost:8080/",
          "height": 449
        },
        "id": "90eCpiovZNpA",
        "outputId": "ce3e0f99-fa52-4970-c6f2-0dbe84b32b2c"
      },
      "outputs": [
        {
          "output_type": "display_data",
          "data": {
            "text/plain": [
              "<Figure size 640x480 with 1 Axes>"
            ],
            "image/png": "[encoded data removed]"
          },
          "metadata": {}
        }
      ],
      "source": [
        "plt.plot(history4.history['loss'], label='Training Loss')\n",
        "plt.plot(history4.history['val_loss'], label='Validation Loss')\n",
        "plt.xlabel('Epochs')\n",
        "plt.ylabel('Loss')\n",
        "plt.legend()\n",
        "plt.show()"
      ]
    },
    {
      "cell_type": "markdown",
      "source": [
        "Again, though the model performs well on cross validation set(As its loss curve is decreasing and getting constant) still the loss has increased(the accuracy of model on cross validation set is decreased)\n",
        "\n",
        "Thus this model can't be finalised as our final model."
      ],
      "metadata": {
        "id": "w3sZQAAIkaon"
      }
    },
    {
      "cell_type": "markdown",
      "metadata": {
        "id": "Cag08pmJg0jY"
      },
      "source": [
        "## ATTEMPT 5"
      ]
    },
    {
      "cell_type": "markdown",
      "source": [
        "In this model, I changed the learning rate of Adam's optimizer."
      ],
      "metadata": {
        "id": "-H35bcrw0alw"
      }
    },
    {
      "cell_type": "code",
      "execution_count": null,
      "metadata": {
        "colab": {
          "base_uri": "https://localhost:8080/"
        },
        "id": "2_OfOSlXgeiG",
        "outputId": "e9052f66-d4b3-4902-b6ef-ce41e7968165"
      },
      "outputs": [
        {
          "output_type": "stream",
          "name": "stdout",
          "text": [
            "Epoch 1/20\n",
            "1500/1500 [==============================] - 11s 6ms/step - loss: 2.6637 - accuracy: 0.7697 - val_loss: 1.6104 - val_accuracy: 0.8948\n",
            "Epoch 2/20\n",
            "1500/1500 [==============================] - 7s 5ms/step - loss: 1.3872 - accuracy: 0.9004 - val_loss: 1.2249 - val_accuracy: 0.9085\n",
            "Epoch 3/20\n",
            "1500/1500 [==============================] - 9s 6ms/step - loss: 1.1398 - accuracy: 0.9095 - val_loss: 1.0697 - val_accuracy: 0.9134\n",
            "Epoch 4/20\n",
            "1500/1500 [==============================] - 9s 6ms/step - loss: 1.0260 - accuracy: 0.9137 - val_loss: 0.9873 - val_accuracy: 0.9173\n",
            "Epoch 5/20\n",
            "1500/1500 [==============================] - 8s 5ms/step - loss: 0.9631 - accuracy: 0.9154 - val_loss: 0.9361 - val_accuracy: 0.9205\n",
            "Epoch 6/20\n",
            "1500/1500 [==============================] - 9s 6ms/step - loss: 0.9238 - accuracy: 0.9171 - val_loss: 0.9082 - val_accuracy: 0.9173\n",
            "Epoch 7/20\n",
            "1500/1500 [==============================] - 7s 5ms/step - loss: 0.8965 - accuracy: 0.9187 - val_loss: 0.8917 - val_accuracy: 0.9183\n",
            "Epoch 8/20\n",
            "1500/1500 [==============================] - 9s 6ms/step - loss: 0.8767 - accuracy: 0.9199 - val_loss: 0.8693 - val_accuracy: 0.9221\n",
            "Epoch 9/20\n",
            "1500/1500 [==============================] - 8s 5ms/step - loss: 0.8620 - accuracy: 0.9221 - val_loss: 0.8544 - val_accuracy: 0.9236\n",
            "Epoch 10/20\n",
            "1500/1500 [==============================] - 7s 5ms/step - loss: 0.8503 - accuracy: 0.9228 - val_loss: 0.8438 - val_accuracy: 0.9238\n",
            "Epoch 11/20\n",
            "1500/1500 [==============================] - 8s 6ms/step - loss: 0.8413 - accuracy: 0.9232 - val_loss: 0.8362 - val_accuracy: 0.9270\n",
            "Epoch 12/20\n",
            "1500/1500 [==============================] - 7s 5ms/step - loss: 0.8334 - accuracy: 0.9246 - val_loss: 0.8274 - val_accuracy: 0.9258\n",
            "Epoch 13/20\n",
            "1500/1500 [==============================] - 9s 6ms/step - loss: 0.8268 - accuracy: 0.9254 - val_loss: 0.8292 - val_accuracy: 0.9262\n",
            "Epoch 14/20\n",
            "1500/1500 [==============================] - 7s 5ms/step - loss: 0.8214 - accuracy: 0.9258 - val_loss: 0.8179 - val_accuracy: 0.9262\n",
            "Epoch 15/20\n",
            "1500/1500 [==============================] - 9s 6ms/step - loss: 0.8166 - accuracy: 0.9263 - val_loss: 0.8131 - val_accuracy: 0.9258\n",
            "Epoch 16/20\n",
            "1500/1500 [==============================] - 8s 5ms/step - loss: 0.8121 - accuracy: 0.9266 - val_loss: 0.8098 - val_accuracy: 0.9273\n",
            "Epoch 17/20\n",
            "1500/1500 [==============================] - 7s 5ms/step - loss: 0.8087 - accuracy: 0.9268 - val_loss: 0.8074 - val_accuracy: 0.9272\n",
            "Epoch 18/20\n",
            "1500/1500 [==============================] - 9s 6ms/step - loss: 0.8051 - accuracy: 0.9278 - val_loss: 0.8025 - val_accuracy: 0.9273\n",
            "Epoch 19/20\n",
            "1500/1500 [==============================] - 7s 5ms/step - loss: 0.8026 - accuracy: 0.9282 - val_loss: 0.8015 - val_accuracy: 0.9293\n",
            "Epoch 20/20\n",
            "1500/1500 [==============================] - 9s 6ms/step - loss: 0.8003 - accuracy: 0.9278 - val_loss: 0.8008 - val_accuracy: 0.9299\n"
          ]
        }
      ],
      "source": [
        "model5 = Sequential([\n",
        "    Dense(units=128, activation='relu', kernel_regularizer=l2(0.01)),\n",
        "    Dense(units=64, activation='relu',  kernel_regularizer=l2(0.01)),\n",
        "    Dense(units=32, activation='relu',  kernel_regularizer=l2(0.01)),\n",
        "    Dense(units=10, activation='softmax',  kernel_regularizer=l2(0.01))\n",
        "])\n",
        "# adding self defined learning rate in the adam's optimiser\n",
        "optimizer1 = Adam(learning_rate=0.0001)\n",
        "model5.compile(optimizer=optimizer1, loss=SparseCategoricalCrossentropy(), metrics=['accuracy'])\n",
        "\n",
        "history5 = model5.fit(x_train, y_train, epochs=20, validation_data=(x_cv, y_cv))\n"
      ]
    },
    {
      "cell_type": "code",
      "execution_count": null,
      "metadata": {
        "colab": {
          "base_uri": "https://localhost:8080/"
        },
        "id": "wqGC0Qk9g-5o",
        "outputId": "ca5711fe-7306-49f0-da7c-3e4559191789"
      },
      "outputs": [
        {
          "output_type": "stream",
          "name": "stdout",
          "text": [
            "375/375 [==============================] - 1s 2ms/step - loss: 0.8008 - accuracy: 0.9299\n",
            "Validation loss =  0.8007879853248596\n",
            "Validation accuracy =  0.9299166798591614\n"
          ]
        }
      ],
      "source": [
        "# Evaluate the model\n",
        "loss, accuracy = model5.evaluate(x_cv, y_cv)\n",
        "print(\"Validation loss = \",loss)\n",
        "print(\"Validation accuracy = \",accuracy)\n"
      ]
    },
    {
      "cell_type": "code",
      "execution_count": null,
      "metadata": {
        "colab": {
          "base_uri": "https://localhost:8080/",
          "height": 454
        },
        "id": "FubIxOCb1rIl",
        "outputId": "f02264ad-0aef-49fa-fac7-e2de3784787a"
      },
      "outputs": [
        {
          "output_type": "display_data",
          "data": {
            "text/plain": [
              "<Figure size 640x480 with 1 Axes>"
            ],
            "image/png": "[encoded data removed]"
          },
          "metadata": {}
        }
      ],
      "source": [
        "plt.plot(history5.history['loss'], label='Training Loss')\n",
        "plt.plot(history5.history['val_loss'], label='Validation Loss')\n",
        "plt.xlabel('Epochs')\n",
        "plt.ylabel('Loss')\n",
        "plt.legend()\n",
        "plt.show()"
      ]
    },
    {
      "cell_type": "markdown",
      "source": [
        "This problem comes again!. The loss curves looks good on both the datasets(as they are getting converged and getting constant). But the accuracy of model is decreased"
      ],
      "metadata": {
        "id": "I2wcvVG9lwh_"
      }
    },
    {
      "cell_type": "markdown",
      "metadata": {
        "id": "4SoTJvMhAsA4"
      },
      "source": [
        "## ATTEMPT 6"
      ]
    },
    {
      "cell_type": "markdown",
      "source": [
        "This time, again I changed the model's architecture by putting a Dropout of 0.2 and removing regularization on each layers."
      ],
      "metadata": {
        "id": "sXgvGOT40BCH"
      }
    },
    {
      "cell_type": "code",
      "execution_count": null,
      "metadata": {
        "colab": {
          "base_uri": "https://localhost:8080/"
        },
        "id": "ojZS6ANM35G4",
        "outputId": "64592c14-4b9c-49b1-fad1-966811a4d2bd"
      },
      "outputs": [
        {
          "output_type": "stream",
          "name": "stdout",
          "text": [
            "Epoch 1/20\n",
            "1500/1500 [==============================] - 10s 6ms/step - loss: 1.0923 - accuracy: 0.6525 - val_loss: 0.3960 - val_accuracy: 0.8947\n",
            "Epoch 2/20\n",
            "1500/1500 [==============================] - 7s 5ms/step - loss: 0.5242 - accuracy: 0.8441 - val_loss: 0.2832 - val_accuracy: 0.9192\n",
            "Epoch 3/20\n",
            "1500/1500 [==============================] - 9s 6ms/step - loss: 0.4112 - accuracy: 0.8803 - val_loss: 0.2347 - val_accuracy: 0.9317\n",
            "Epoch 4/20\n",
            "1500/1500 [==============================] - 8s 5ms/step - loss: 0.3381 - accuracy: 0.9060 - val_loss: 0.1987 - val_accuracy: 0.9409\n",
            "Epoch 5/20\n",
            "1500/1500 [==============================] - 8s 5ms/step - loss: 0.2909 - accuracy: 0.9177 - val_loss: 0.1752 - val_accuracy: 0.9477\n",
            "Epoch 6/20\n",
            "1500/1500 [==============================] - 9s 6ms/step - loss: 0.2572 - accuracy: 0.9285 - val_loss: 0.1574 - val_accuracy: 0.9532\n",
            "Epoch 7/20\n",
            "1500/1500 [==============================] - 8s 5ms/step - loss: 0.2332 - accuracy: 0.9351 - val_loss: 0.1458 - val_accuracy: 0.9573\n",
            "Epoch 8/20\n",
            "1500/1500 [==============================] - 9s 6ms/step - loss: 0.2055 - accuracy: 0.9425 - val_loss: 0.1380 - val_accuracy: 0.9591\n",
            "Epoch 9/20\n",
            "1500/1500 [==============================] - 8s 5ms/step - loss: 0.1917 - accuracy: 0.9469 - val_loss: 0.1252 - val_accuracy: 0.9631\n",
            "Epoch 10/20\n",
            "1500/1500 [==============================] - 9s 6ms/step - loss: 0.1785 - accuracy: 0.9503 - val_loss: 0.1194 - val_accuracy: 0.9653\n",
            "Epoch 11/20\n",
            "1500/1500 [==============================] - 9s 6ms/step - loss: 0.1671 - accuracy: 0.9540 - val_loss: 0.1158 - val_accuracy: 0.9659\n",
            "Epoch 12/20\n",
            "1500/1500 [==============================] - 8s 5ms/step - loss: 0.1563 - accuracy: 0.9562 - val_loss: 0.1097 - val_accuracy: 0.9678\n",
            "Epoch 13/20\n",
            "1500/1500 [==============================] - 9s 6ms/step - loss: 0.1441 - accuracy: 0.9604 - val_loss: 0.1049 - val_accuracy: 0.9687\n",
            "Epoch 14/20\n",
            "1500/1500 [==============================] - 9s 6ms/step - loss: 0.1381 - accuracy: 0.9614 - val_loss: 0.1032 - val_accuracy: 0.9689\n",
            "Epoch 15/20\n",
            "1500/1500 [==============================] - 7s 5ms/step - loss: 0.1294 - accuracy: 0.9639 - val_loss: 0.0995 - val_accuracy: 0.9707\n",
            "Epoch 16/20\n",
            "1500/1500 [==============================] - 9s 6ms/step - loss: 0.1202 - accuracy: 0.9663 - val_loss: 0.0968 - val_accuracy: 0.9709\n",
            "Epoch 17/20\n",
            "1500/1500 [==============================] - 8s 5ms/step - loss: 0.1149 - accuracy: 0.9674 - val_loss: 0.0961 - val_accuracy: 0.9719\n",
            "Epoch 18/20\n",
            "1500/1500 [==============================] - 9s 6ms/step - loss: 0.1085 - accuracy: 0.9691 - val_loss: 0.0911 - val_accuracy: 0.9729\n",
            "Epoch 19/20\n",
            "1500/1500 [==============================] - 9s 6ms/step - loss: 0.1073 - accuracy: 0.9707 - val_loss: 0.0908 - val_accuracy: 0.9731\n",
            "Epoch 20/20\n",
            "1500/1500 [==============================] - 7s 5ms/step - loss: 0.1024 - accuracy: 0.9714 - val_loss: 0.0883 - val_accuracy: 0.9746\n"
          ]
        }
      ],
      "source": [
        "model6 = Sequential([\n",
        "    Dense(units=128, activation='relu'),\n",
        "    Dropout(0.2),\n",
        "    Dense(units=64, activation='relu'),\n",
        "    Dropout(0.2),\n",
        "    Dense(units=32, activation='relu'),\n",
        "    Dropout(0.2),\n",
        "    Dense(units=10, activation='softmax', )\n",
        "])\n",
        "\n",
        "optimizer1 = Adam(learning_rate=0.0001)\n",
        "model6.compile(optimizer=optimizer1, loss=SparseCategoricalCrossentropy(), metrics=['accuracy'])\n",
        "\n",
        "history6 = model6.fit(x_train, y_train, epochs=20, validation_data=(x_cv, y_cv))\n"
      ]
    },
    {
      "cell_type": "code",
      "execution_count": null,
      "metadata": {
        "colab": {
          "base_uri": "https://localhost:8080/"
        },
        "id": "nIPG2_rf5mxf",
        "outputId": "2a9c528c-34e2-4bb9-81a6-289ebb643648"
      },
      "outputs": [
        {
          "output_type": "stream",
          "name": "stdout",
          "text": [
            "375/375 [==============================] - 1s 2ms/step - loss: 0.0883 - accuracy: 0.9746\n",
            "Validation loss =  0.08833010494709015\n",
            "Validation accuracy =  0.9745833277702332\n"
          ]
        }
      ],
      "source": [
        "# Evaluate the model\n",
        "loss, accuracy = model6.evaluate(x_cv, y_cv)\n",
        "print(\"Validation loss = \",loss)\n",
        "print(\"Validation accuracy = \",accuracy)"
      ]
    },
    {
      "cell_type": "code",
      "execution_count": null,
      "metadata": {
        "colab": {
          "base_uri": "https://localhost:8080/",
          "height": 449
        },
        "id": "YDOr2GHyHH19",
        "outputId": "ccb4bf9b-6169-4982-e142-00e5b971d24f"
      },
      "outputs": [
        {
          "output_type": "display_data",
          "data": {
            "text/plain": [
              "<Figure size 640x480 with 1 Axes>"
            ],
            "image/png": "[encoded data removed]"
          },
          "metadata": {}
        }
      ],
      "source": [
        "plt.plot(history6.history['loss'], label='Training Loss')\n",
        "plt.plot(history6.history['val_loss'], label='Validation Loss')\n",
        "plt.xlabel('Epochs')\n",
        "plt.ylabel('Loss')\n",
        "plt.legend()\n",
        "plt.show()"
      ]
    },
    {
      "cell_type": "markdown",
      "source": [
        "This is pretty good model, as both the losses are converging. And also accuracy of model on the cross validation set is good(loss on cross validation set is close to 0.1)"
      ],
      "metadata": {
        "id": "Rhr-HQfyfJ7o"
      }
    },
    {
      "cell_type": "markdown",
      "source": [
        "## ATTEMPT 7"
      ],
      "metadata": {
        "id": "SM0Zm3y4b9eE"
      }
    },
    {
      "cell_type": "markdown",
      "source": [
        "As we can see that by increasing the complexity of models, the loss on training data and cross validation data is getting constant at very high level, i.e not learning further.\n",
        "\n",
        "Thus this way we can say that making model simpler will increase our accruacy(like it happened in previous model)\n",
        "\n",
        "Therefore this time, I changed the model's architecture again, changed it to three layers only."
      ],
      "metadata": {
        "id": "DpIzHMCFd-3w"
      }
    },
    {
      "cell_type": "code",
      "source": [
        "model7 = Sequential([\n",
        "    Dense(units=512, activation='relu'),\n",
        "    Dropout(0.2),\n",
        "    Dense(units=512, activation='relu'),\n",
        "    Dropout(0.2),\n",
        "    Dense(units=10, activation='softmax')\n",
        "])\n",
        "\n",
        "optimizer1 = Adam(learning_rate=0.0001)\n",
        "model7.compile(optimizer=optimizer1, loss=SparseCategoricalCrossentropy(), metrics=['accuracy'])\n",
        "\n",
        "history7 = model7.fit(x_train, y_train, epochs=20, validation_data=(x_cv, y_cv))\n",
        "\n"
      ],
      "metadata": {
        "colab": {
          "base_uri": "https://localhost:8080/"
        },
        "id": "rT6uLWdoOapJ",
        "outputId": "32f23e90-2f73-403a-9cb3-9374001baddb"
      },
      "execution_count": null,
      "outputs": [
        {
          "output_type": "stream",
          "name": "stdout",
          "text": [
            "Epoch 1/20\n",
            "1500/1500 [==============================] - 20s 13ms/step - loss: 0.4591 - accuracy: 0.8715 - val_loss: 0.2088 - val_accuracy: 0.9403\n",
            "Epoch 2/20\n",
            "1500/1500 [==============================] - 18s 12ms/step - loss: 0.1983 - accuracy: 0.9431 - val_loss: 0.1464 - val_accuracy: 0.9577\n",
            "Epoch 3/20\n",
            "1500/1500 [==============================] - 19s 13ms/step - loss: 0.1428 - accuracy: 0.9586 - val_loss: 0.1170 - val_accuracy: 0.9655\n",
            "Epoch 4/20\n",
            "1500/1500 [==============================] - 18s 12ms/step - loss: 0.1114 - accuracy: 0.9669 - val_loss: 0.1030 - val_accuracy: 0.9685\n",
            "Epoch 5/20\n",
            "1500/1500 [==============================] - 17s 12ms/step - loss: 0.0905 - accuracy: 0.9727 - val_loss: 0.0919 - val_accuracy: 0.9712\n",
            "Epoch 6/20\n",
            "1500/1500 [==============================] - 19s 13ms/step - loss: 0.0733 - accuracy: 0.9786 - val_loss: 0.0811 - val_accuracy: 0.9732\n",
            "Epoch 7/20\n",
            "1500/1500 [==============================] - 17s 12ms/step - loss: 0.0615 - accuracy: 0.9815 - val_loss: 0.0802 - val_accuracy: 0.9741\n",
            "Epoch 8/20\n",
            "1500/1500 [==============================] - 19s 12ms/step - loss: 0.0527 - accuracy: 0.9841 - val_loss: 0.0750 - val_accuracy: 0.9768\n",
            "Epoch 9/20\n",
            "1500/1500 [==============================] - 19s 13ms/step - loss: 0.0462 - accuracy: 0.9858 - val_loss: 0.0709 - val_accuracy: 0.9776\n",
            "Epoch 10/20\n",
            "1500/1500 [==============================] - 18s 12ms/step - loss: 0.0392 - accuracy: 0.9877 - val_loss: 0.0708 - val_accuracy: 0.9789\n",
            "Epoch 11/20\n",
            "1500/1500 [==============================] - 17s 12ms/step - loss: 0.0330 - accuracy: 0.9897 - val_loss: 0.0759 - val_accuracy: 0.9782\n",
            "Epoch 12/20\n",
            "1500/1500 [==============================] - 19s 13ms/step - loss: 0.0299 - accuracy: 0.9909 - val_loss: 0.0712 - val_accuracy: 0.9794\n",
            "Epoch 13/20\n",
            "1500/1500 [==============================] - 17s 11ms/step - loss: 0.0260 - accuracy: 0.9918 - val_loss: 0.0687 - val_accuracy: 0.9812\n",
            "Epoch 14/20\n",
            "1500/1500 [==============================] - 17s 11ms/step - loss: 0.0211 - accuracy: 0.9933 - val_loss: 0.0667 - val_accuracy: 0.9818\n",
            "Epoch 15/20\n",
            "1500/1500 [==============================] - 17s 12ms/step - loss: 0.0194 - accuracy: 0.9940 - val_loss: 0.0671 - val_accuracy: 0.9815\n",
            "Epoch 16/20\n",
            "1500/1500 [==============================] - 18s 12ms/step - loss: 0.0175 - accuracy: 0.9947 - val_loss: 0.0717 - val_accuracy: 0.9808\n",
            "Epoch 17/20\n",
            "1500/1500 [==============================] - 19s 13ms/step - loss: 0.0154 - accuracy: 0.9949 - val_loss: 0.0710 - val_accuracy: 0.9796\n",
            "Epoch 18/20\n",
            "1500/1500 [==============================] - 17s 12ms/step - loss: 0.0135 - accuracy: 0.9960 - val_loss: 0.0702 - val_accuracy: 0.9817\n",
            "Epoch 19/20\n",
            "1500/1500 [==============================] - 19s 13ms/step - loss: 0.0121 - accuracy: 0.9964 - val_loss: 0.0774 - val_accuracy: 0.9806\n",
            "Epoch 20/20\n",
            "1500/1500 [==============================] - 18s 12ms/step - loss: 0.0117 - accuracy: 0.9964 - val_loss: 0.0715 - val_accuracy: 0.9818\n"
          ]
        }
      ]
    },
    {
      "cell_type": "code",
      "source": [
        "# Evaluate the model\n",
        "loss, accuracy = model7.evaluate(x_cv, y_cv)\n",
        "print(\"Validation loss = \",loss)\n",
        "print(\"Validation accuracy = \",accuracy)"
      ],
      "metadata": {
        "colab": {
          "base_uri": "https://localhost:8080/"
        },
        "id": "eE3O2d5rOslf",
        "outputId": "05767685-7b8a-448a-a49c-82cc9a1f3fd5"
      },
      "execution_count": null,
      "outputs": [
        {
          "output_type": "stream",
          "name": "stdout",
          "text": [
            "375/375 [==============================] - 1s 3ms/step - loss: 0.0686 - accuracy: 0.9822\n",
            "Validation loss =  0.06862402707338333\n",
            "Validation accuracy =  0.9821666479110718\n"
          ]
        }
      ]
    },
    {
      "cell_type": "code",
      "source": [
        "plt.plot(history7.history['loss'], label='Training Loss')\n",
        "plt.plot(history7.history['val_loss'], label='Validation Loss')\n",
        "plt.xlabel('Epochs')\n",
        "plt.ylabel('Loss')\n",
        "plt.legend()\n",
        "plt.show()"
      ],
      "metadata": {
        "colab": {
          "base_uri": "https://localhost:8080/",
          "height": 449
        },
        "id": "Km4qGIQsOyD-",
        "outputId": "dfe630eb-11ac-4b74-a2bf-bbaad6ddec0d"
      },
      "execution_count": null,
      "outputs": [
        {
          "output_type": "display_data",
          "data": {
            "text/plain": [
              "<Figure size 640x480 with 1 Axes>"
            ],
            "image/png": "[encoded data removed]"
          },
          "metadata": {}
        }
      ]
    },
    {
      "cell_type": "markdown",
      "source": [
        "Due to the following reasons, I selected this as my final model\n",
        "\n",
        "*   It works well on training data\n",
        "*   It learns well even on the cross validation set(error is less than 0.1)\n",
        "*   And also it shows least error among all the other 6 models(accuracy is 98.25%, most among all)\n",
        "\n",
        "\n",
        "\n"
      ],
      "metadata": {
        "id": "X1k8MkYRepHR"
      }
    },
    {
      "cell_type": "markdown",
      "source": [
        "# MODEL'S PERFORMANCE ON TEST DATA\n"
      ],
      "metadata": {
        "id": "CACYo3RqRaKq"
      }
    },
    {
      "cell_type": "code",
      "source": [
        "y_hat=model7.predict(x_test)\n",
        "y_hat=np.argmax(y_hat,axis=1)\n",
        "print(\"Model's prediction = \", y_hat[0:10])\n",
        "print(\"Actual value =       \",y_test[0:10])"
      ],
      "metadata": {
        "colab": {
          "base_uri": "https://localhost:8080/"
        },
        "id": "ZawCE32gRcXO",
        "outputId": "3c9213a1-cbc7-4590-d016-95833fc612b7"
      },
      "execution_count": null,
      "outputs": [
        {
          "output_type": "stream",
          "name": "stdout",
          "text": [
            "313/313 [==============================] - 3s 10ms/step\n",
            "Model's prediction =  [7 2 1 0 4 1 4 9 5 9]\n",
            "Actual value =        [7 2 1 0 4 1 4 9 5 9]\n"
          ]
        }
      ]
    },
    {
      "cell_type": "markdown",
      "source": [
        "## MODEL'S EVALUATIONS AND ACCURACY ON TEST DATA"
      ],
      "metadata": {
        "id": "lmcP-Wdkd01s"
      }
    },
    {
      "cell_type": "code",
      "source": [
        "cm=tf.math.confusion_matrix(y_test,y_hat)\n",
        "sns.heatmap(cm, annot=True, fmt='d', cmap='Blues', xticklabels=[0, 1, 2,3,4,5,6,7,8,9], yticklabels=[0, 1, 2,3,4,5,6,7,8,9])\n",
        "plt.xlabel('Predicted')\n",
        "plt.ylabel('Actual')\n",
        "plt.title('Confusion Matrix')\n",
        "plt.show()"
      ],
      "metadata": {
        "colab": {
          "base_uri": "https://localhost:8080/",
          "height": 472
        },
        "id": "SUzv6FMbR0tC",
        "outputId": "01705a55-6007-4398-90b1-22e670e90ece"
      },
      "execution_count": null,
      "outputs": [
        {
          "output_type": "display_data",
          "data": {
            "text/plain": [
              "<Figure size 640x480 with 2 Axes>"
            ],
            "image/png": "[encoded data removed]"
          },
          "metadata": {}
        }
      ]
    },
    {
      "cell_type": "code",
      "source": [
        "print(classification_report(y_test, y_hat))\n",
        "accuracy = accuracy_score(y_test, y_hat)\n",
        "print(\"Accuracy = \",accuracy)\n"
      ],
      "metadata": {
        "colab": {
          "base_uri": "https://localhost:8080/"
        },
        "id": "O7fJ5Jr3WZB0",
        "outputId": "60b81ef5-981e-4f63-a991-04022c99af48"
      },
      "execution_count": null,
      "outputs": [
        {
          "output_type": "stream",
          "name": "stdout",
          "text": [
            "              precision    recall  f1-score   support\n",
            "\n",
            "           0       0.99      0.99      0.99       980\n",
            "           1       0.99      0.99      0.99      1135\n",
            "           2       0.98      0.98      0.98      1032\n",
            "           3       0.98      0.98      0.98      1010\n",
            "           4       0.98      0.98      0.98       982\n",
            "           5       0.98      0.98      0.98       892\n",
            "           6       0.98      0.99      0.98       958\n",
            "           7       0.98      0.98      0.98      1028\n",
            "           8       0.98      0.97      0.98       974\n",
            "           9       0.97      0.97      0.97      1009\n",
            "\n",
            "    accuracy                           0.98     10000\n",
            "   macro avg       0.98      0.98      0.98     10000\n",
            "weighted avg       0.98      0.98      0.98     10000\n",
            "\n",
            "Accuracy =  0.9812\n"
          ]
        }
      ]
    },
    {
      "cell_type": "markdown",
      "source": [
        "As we can see, it works pretty well on test data as well\n",
        "\n",
        "\n",
        "*   Accuracy = 98 %\n",
        "*   In confusion matrix too we can see it has predicted most of the classes correctly.\n",
        "\n",
        "\n"
      ],
      "metadata": {
        "id": "7dUE_SPMtN7p"
      }
    }
  ],
  "metadata": {
    "colab": {
      "provenance": [],
      "collapsed_sections": [
        "AQZGe7QjcFYD",
        "tUheKlhfIfHo",
        "VLPvpZjjI3Vr",
        "mbwg3mjGQMXM",
        "AOYj7CS0XrWQ",
        "Cag08pmJg0jY",
        "4SoTJvMhAsA4",
        "lmcP-Wdkd01s"
      ],
      "toc_visible": true,
      "authorship_tag": "ABX9TyNJuGcsHTUSK1tprx7jtcfe",
      "include_colab_link": true
    },
    "kernelspec": {
      "display_name": "Python 3",
      "name": "python3"
    },
    "language_info": {
      "name": "python"
    }
  },
  "nbformat": 4,
  "nbformat_minor": 0
}